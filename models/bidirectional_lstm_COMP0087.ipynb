{
  "nbformat": 4,
  "nbformat_minor": 0,
  "metadata": {
    "colab": {
      "name": "bidirectional_lstm_COMP0087.ipynb",
      "provenance": []
    },
    "kernelspec": {
      "name": "python3",
      "display_name": "Python 3"
    },
    "language_info": {
      "name": "python"
    },
    "widgets": {
      "application/vnd.jupyter.widget-state+json": {
        "ad63028599a84ae284afb9bde7377f5c": {
          "model_module": "@jupyter-widgets/controls",
          "model_name": "HBoxModel",
          "state": {
            "_view_name": "HBoxView",
            "_dom_classes": [],
            "_model_name": "HBoxModel",
            "_view_module": "@jupyter-widgets/controls",
            "_model_module_version": "1.5.0",
            "_view_count": null,
            "_view_module_version": "1.5.0",
            "box_style": "",
            "layout": "IPY_MODEL_1d7df52b0bc64a2fb866ed61ad24dc60",
            "_model_module": "@jupyter-widgets/controls",
            "children": [
              "IPY_MODEL_a3425603156f4d33a1081ceeb6980d3e",
              "IPY_MODEL_2a6ea95a6148482b8afdef47f0db904c"
            ]
          }
        },
        "1d7df52b0bc64a2fb866ed61ad24dc60": {
          "model_module": "@jupyter-widgets/base",
          "model_name": "LayoutModel",
          "state": {
            "_view_name": "LayoutView",
            "grid_template_rows": null,
            "right": null,
            "justify_content": null,
            "_view_module": "@jupyter-widgets/base",
            "overflow": null,
            "_model_module_version": "1.2.0",
            "_view_count": null,
            "flex_flow": null,
            "width": null,
            "min_width": null,
            "border": null,
            "align_items": null,
            "bottom": null,
            "_model_module": "@jupyter-widgets/base",
            "top": null,
            "grid_column": null,
            "overflow_y": null,
            "overflow_x": null,
            "grid_auto_flow": null,
            "grid_area": null,
            "grid_template_columns": null,
            "flex": null,
            "_model_name": "LayoutModel",
            "justify_items": null,
            "grid_row": null,
            "max_height": null,
            "align_content": null,
            "visibility": null,
            "align_self": null,
            "height": null,
            "min_height": null,
            "padding": null,
            "grid_auto_rows": null,
            "grid_gap": null,
            "max_width": null,
            "order": null,
            "_view_module_version": "1.2.0",
            "grid_template_areas": null,
            "object_position": null,
            "object_fit": null,
            "grid_auto_columns": null,
            "margin": null,
            "display": null,
            "left": null
          }
        },
        "a3425603156f4d33a1081ceeb6980d3e": {
          "model_module": "@jupyter-widgets/controls",
          "model_name": "FloatProgressModel",
          "state": {
            "_view_name": "ProgressView",
            "style": "IPY_MODEL_041eaedc53fc4a6eb75439531c74b2ca",
            "_dom_classes": [],
            "description": "100%",
            "_model_name": "FloatProgressModel",
            "bar_style": "success",
            "max": 244733649,
            "_view_module": "@jupyter-widgets/controls",
            "_model_module_version": "1.5.0",
            "value": 244733649,
            "_view_count": null,
            "_view_module_version": "1.5.0",
            "orientation": "horizontal",
            "min": 0,
            "description_tooltip": null,
            "_model_module": "@jupyter-widgets/controls",
            "layout": "IPY_MODEL_a105bd6c565b4950b513f23277939362"
          }
        },
        "2a6ea95a6148482b8afdef47f0db904c": {
          "model_module": "@jupyter-widgets/controls",
          "model_name": "HTMLModel",
          "state": {
            "_view_name": "HTMLView",
            "style": "IPY_MODEL_3dbd79cf4e984de9916eff0f07c277de",
            "_dom_classes": [],
            "description": "",
            "_model_name": "HTMLModel",
            "placeholder": "​",
            "_view_module": "@jupyter-widgets/controls",
            "_model_module_version": "1.5.0",
            "value": " 245M/245M [00:30&lt;00:00, 7.91MB/s]",
            "_view_count": null,
            "_view_module_version": "1.5.0",
            "description_tooltip": null,
            "_model_module": "@jupyter-widgets/controls",
            "layout": "IPY_MODEL_749bab7083814b3fa8e341cda7c93826"
          }
        },
        "041eaedc53fc4a6eb75439531c74b2ca": {
          "model_module": "@jupyter-widgets/controls",
          "model_name": "ProgressStyleModel",
          "state": {
            "_view_name": "StyleView",
            "_model_name": "ProgressStyleModel",
            "description_width": "initial",
            "_view_module": "@jupyter-widgets/base",
            "_model_module_version": "1.5.0",
            "_view_count": null,
            "_view_module_version": "1.2.0",
            "bar_color": null,
            "_model_module": "@jupyter-widgets/controls"
          }
        },
        "a105bd6c565b4950b513f23277939362": {
          "model_module": "@jupyter-widgets/base",
          "model_name": "LayoutModel",
          "state": {
            "_view_name": "LayoutView",
            "grid_template_rows": null,
            "right": null,
            "justify_content": null,
            "_view_module": "@jupyter-widgets/base",
            "overflow": null,
            "_model_module_version": "1.2.0",
            "_view_count": null,
            "flex_flow": null,
            "width": null,
            "min_width": null,
            "border": null,
            "align_items": null,
            "bottom": null,
            "_model_module": "@jupyter-widgets/base",
            "top": null,
            "grid_column": null,
            "overflow_y": null,
            "overflow_x": null,
            "grid_auto_flow": null,
            "grid_area": null,
            "grid_template_columns": null,
            "flex": null,
            "_model_name": "LayoutModel",
            "justify_items": null,
            "grid_row": null,
            "max_height": null,
            "align_content": null,
            "visibility": null,
            "align_self": null,
            "height": null,
            "min_height": null,
            "padding": null,
            "grid_auto_rows": null,
            "grid_gap": null,
            "max_width": null,
            "order": null,
            "_view_module_version": "1.2.0",
            "grid_template_areas": null,
            "object_position": null,
            "object_fit": null,
            "grid_auto_columns": null,
            "margin": null,
            "display": null,
            "left": null
          }
        },
        "3dbd79cf4e984de9916eff0f07c277de": {
          "model_module": "@jupyter-widgets/controls",
          "model_name": "DescriptionStyleModel",
          "state": {
            "_view_name": "StyleView",
            "_model_name": "DescriptionStyleModel",
            "description_width": "",
            "_view_module": "@jupyter-widgets/base",
            "_model_module_version": "1.5.0",
            "_view_count": null,
            "_view_module_version": "1.2.0",
            "_model_module": "@jupyter-widgets/controls"
          }
        },
        "749bab7083814b3fa8e341cda7c93826": {
          "model_module": "@jupyter-widgets/base",
          "model_name": "LayoutModel",
          "state": {
            "_view_name": "LayoutView",
            "grid_template_rows": null,
            "right": null,
            "justify_content": null,
            "_view_module": "@jupyter-widgets/base",
            "overflow": null,
            "_model_module_version": "1.2.0",
            "_view_count": null,
            "flex_flow": null,
            "width": null,
            "min_width": null,
            "border": null,
            "align_items": null,
            "bottom": null,
            "_model_module": "@jupyter-widgets/base",
            "top": null,
            "grid_column": null,
            "overflow_y": null,
            "overflow_x": null,
            "grid_auto_flow": null,
            "grid_area": null,
            "grid_template_columns": null,
            "flex": null,
            "_model_name": "LayoutModel",
            "justify_items": null,
            "grid_row": null,
            "max_height": null,
            "align_content": null,
            "visibility": null,
            "align_self": null,
            "height": null,
            "min_height": null,
            "padding": null,
            "grid_auto_rows": null,
            "grid_gap": null,
            "max_width": null,
            "order": null,
            "_view_module_version": "1.2.0",
            "grid_template_areas": null,
            "object_position": null,
            "object_fit": null,
            "grid_auto_columns": null,
            "margin": null,
            "display": null,
            "left": null
          }
        }
      }
    },
    "accelerator": "GPU"
  },
  "cells": [
    {
      "cell_type": "code",
      "metadata": {
        "id": "h4_5jhn-0eAN"
      },
      "source": [
        "!pip install sentence_transformers"
      ],
      "execution_count": null,
      "outputs": []
    },
    {
      "cell_type": "code",
      "metadata": {
        "colab": {
          "base_uri": "https://localhost:8080/"
        },
        "id": "JgpJf7ot1tJN",
        "outputId": "1cb95633-884d-4544-991b-de23bfe30c9e"
      },
      "source": [
        "from google.colab import drive\n",
        "drive.mount('/content/drive')"
      ],
      "execution_count": 2,
      "outputs": [
        {
          "output_type": "stream",
          "text": [
            "Mounted at /content/drive\n"
          ],
          "name": "stdout"
        }
      ]
    },
    {
      "cell_type": "code",
      "metadata": {
        "id": "pMZCoIQ41uco"
      },
      "source": [
        "import pandas as pd\n",
        "from sklearn.model_selection import train_test_split\n",
        "import re\n",
        "from sentence_transformers import SentenceTransformer\n",
        "import torch\n",
        "import torch.nn as nn\n",
        "import torch.nn.functional as F\n",
        "import torch.optim as optim\n",
        "from tqdm import tqdm\n",
        "import pickle\n",
        "import numpy as np"
      ],
      "execution_count": 3,
      "outputs": []
    },
    {
      "cell_type": "code",
      "metadata": {
        "colab": {
          "base_uri": "https://localhost:8080/"
        },
        "id": "fJTKEFGJHZqM",
        "outputId": "253d74ac-5f17-49a1-e7b8-da5cf90f1304"
      },
      "source": [
        "# set up GPU\n",
        "device = torch.device(\"cuda\" if torch.cuda.is_available() else \"cpu\")\n",
        "print(device)"
      ],
      "execution_count": 5,
      "outputs": [
        {
          "output_type": "stream",
          "text": [
            "cuda\n"
          ],
          "name": "stdout"
        }
      ]
    },
    {
      "cell_type": "code",
      "metadata": {
        "colab": {
          "base_uri": "https://localhost:8080/",
          "height": 419
        },
        "id": "HReL8sIe1vlw",
        "outputId": "8bde1476-b695-4ba0-ccd5-f4962e75477e"
      },
      "source": [
        "all_songs = pd.read_csv('/content/drive/MyDrive/all_songs.csv')\n",
        "all_songs['artist'] = all_songs['artist'].astype('category') # convert to categorical to get numerical classes\n",
        "some_songs = all_songs.loc[all_songs['lyrics'].str.startswith('[').fillna(False)]\n",
        "some_songs"
      ],
      "execution_count": 6,
      "outputs": [
        {
          "output_type": "execute_result",
          "data": {
            "text/html": [
              "<div>\n",
              "<style scoped>\n",
              "    .dataframe tbody tr th:only-of-type {\n",
              "        vertical-align: middle;\n",
              "    }\n",
              "\n",
              "    .dataframe tbody tr th {\n",
              "        vertical-align: top;\n",
              "    }\n",
              "\n",
              "    .dataframe thead th {\n",
              "        text-align: right;\n",
              "    }\n",
              "</style>\n",
              "<table border=\"1\" class=\"dataframe\">\n",
              "  <thead>\n",
              "    <tr style=\"text-align: right;\">\n",
              "      <th></th>\n",
              "      <th>song title</th>\n",
              "      <th>lyrics</th>\n",
              "      <th>artist</th>\n",
              "    </tr>\n",
              "  </thead>\n",
              "  <tbody>\n",
              "    <tr>\n",
              "      <th>0</th>\n",
              "      <td>In Da Club</td>\n",
              "      <td>[Intro]\\nGo, go, go, go, go, go\\nGo Shorty, it...</td>\n",
              "      <td>50 Cent</td>\n",
              "    </tr>\n",
              "    <tr>\n",
              "      <th>1</th>\n",
              "      <td>21 Questions</td>\n",
              "      <td>[Ad-Libs]\\nNew York City\\nYou are now rockin'\\...</td>\n",
              "      <td>50 Cent</td>\n",
              "    </tr>\n",
              "    <tr>\n",
              "      <th>2</th>\n",
              "      <td>Many Men (Wish Death)</td>\n",
              "      <td>[Skit]\\nMan, we gotta go get somethin' to eat\\...</td>\n",
              "      <td>50 Cent</td>\n",
              "    </tr>\n",
              "    <tr>\n",
              "      <th>3</th>\n",
              "      <td>My Life</td>\n",
              "      <td>[Chorus]\\nMy, yeah, yeah, mmm\\nMy life, my lif...</td>\n",
              "      <td>50 Cent</td>\n",
              "    </tr>\n",
              "    <tr>\n",
              "      <th>4</th>\n",
              "      <td>Patiently Waiting</td>\n",
              "      <td>[Intro]\\nHey Em, you know you're my favorite w...</td>\n",
              "      <td>50 Cent</td>\n",
              "    </tr>\n",
              "    <tr>\n",
              "      <th>...</th>\n",
              "      <td>...</td>\n",
              "      <td>...</td>\n",
              "      <td>...</td>\n",
              "    </tr>\n",
              "    <tr>\n",
              "      <th>575</th>\n",
              "      <td>Cruisin’</td>\n",
              "      <td>[Intro]\\n(Crusin')\\n\\n[Verse 1]\\nBaby, let's c...</td>\n",
              "      <td>Smokey Robinson</td>\n",
              "    </tr>\n",
              "    <tr>\n",
              "      <th>576</th>\n",
              "      <td>Really Gonna Miss You</td>\n",
              "      <td>[Verse 1]\\nReally gonna miss you\\nIt's really ...</td>\n",
              "      <td>Smokey Robinson</td>\n",
              "    </tr>\n",
              "    <tr>\n",
              "      <th>579</th>\n",
              "      <td>The Agony and the Ecstasy</td>\n",
              "      <td>[Verse 1]\\nWhat's it all about this crazy love...</td>\n",
              "      <td>Smokey Robinson</td>\n",
              "    </tr>\n",
              "    <tr>\n",
              "      <th>582</th>\n",
              "      <td>Ooh Baby Baby</td>\n",
              "      <td>[Verse 1]\\nI did you wrong\\nMy heart went out ...</td>\n",
              "      <td>Smokey Robinson</td>\n",
              "    </tr>\n",
              "    <tr>\n",
              "      <th>587</th>\n",
              "      <td>My Girl</td>\n",
              "      <td>[Intro]\\nOoh, ooh-ooh, ooh (Ooh)\\nOoh, ooh-ooh...</td>\n",
              "      <td>Smokey Robinson</td>\n",
              "    </tr>\n",
              "  </tbody>\n",
              "</table>\n",
              "<p>488 rows × 3 columns</p>\n",
              "</div>"
            ],
            "text/plain": [
              "                    song title  ...           artist\n",
              "0                   In Da Club  ...          50 Cent\n",
              "1                 21 Questions  ...          50 Cent\n",
              "2        Many Men (Wish Death)  ...          50 Cent\n",
              "3                      My Life  ...          50 Cent\n",
              "4            Patiently Waiting  ...          50 Cent\n",
              "..                         ...  ...              ...\n",
              "575                   Cruisin’  ...  Smokey Robinson\n",
              "576      Really Gonna Miss You  ...  Smokey Robinson\n",
              "579  The Agony and the Ecstasy  ...  Smokey Robinson\n",
              "582              Ooh Baby Baby  ...  Smokey Robinson\n",
              "587                    My Girl  ...  Smokey Robinson\n",
              "\n",
              "[488 rows x 3 columns]"
            ]
          },
          "metadata": {
            "tags": []
          },
          "execution_count": 6
        }
      ]
    },
    {
      "cell_type": "code",
      "metadata": {
        "id": "wSS4cWcW1z82"
      },
      "source": [
        "# create training samples\n",
        "X = some_songs.lyrics.values\n",
        "\n",
        "# create labels\n",
        "y = some_songs.artist.cat.codes.values"
      ],
      "execution_count": 7,
      "outputs": []
    },
    {
      "cell_type": "code",
      "metadata": {
        "id": "S_jyI7au11W6"
      },
      "source": [
        "def split_by_verse(song, removeN = True):\n",
        "    verses = song.split('[')\n",
        "    for ind in range(1, len(verses)):\n",
        "        verses[ind] = verses[ind].split(']')[1]\n",
        "        verses[ind] = verses[ind][1:]\n",
        "        if removeN:\n",
        "            verses[ind] = re.sub('\\n', ' ', verses[ind])\n",
        "        verses[ind] = re.sub('  ', '', verses[ind])\n",
        "    return verses[1:]\n",
        "\n",
        "def split_by_bar(song, retNum = False):\n",
        "    verses = split_by_verse(song, removeN=False)\n",
        "    bars = []\n",
        "    for verse in verses:\n",
        "        t_bars = verse.split('\\n')\n",
        "        bars += t_bars[:-2]\n",
        "    if retNum:\n",
        "        return len(bars)\n",
        "    return bars\n",
        "\n",
        "def split_by_word(song, retNum = False):\n",
        "    bars = split_by_bar(song)\n",
        "    words = []\n",
        "    for bar in bars:\n",
        "        ws = bar.split(' ')\n",
        "        words += ws\n",
        "    if retNum:\n",
        "        return len(words)\n",
        "    return words\n",
        "\n",
        "def get_embeddings(msgs):\n",
        "    encoder = SentenceTransformer('distilbert-base-nli-mean-tokens')\n",
        "    embeddings = encoder.encode(msgs)\n",
        "    return torch.unsqueeze(torch.from_numpy(embeddings), 0)"
      ],
      "execution_count": 8,
      "outputs": []
    },
    {
      "cell_type": "code",
      "metadata": {
        "colab": {
          "base_uri": "https://localhost:8080/",
          "height": 103,
          "referenced_widgets": [
            "ad63028599a84ae284afb9bde7377f5c",
            "1d7df52b0bc64a2fb866ed61ad24dc60",
            "a3425603156f4d33a1081ceeb6980d3e",
            "2a6ea95a6148482b8afdef47f0db904c",
            "041eaedc53fc4a6eb75439531c74b2ca",
            "a105bd6c565b4950b513f23277939362",
            "3dbd79cf4e984de9916eff0f07c277de",
            "749bab7083814b3fa8e341cda7c93826"
          ]
        },
        "id": "TGDhnIWT12jY",
        "outputId": "628af98c-6bf6-49fb-fdf7-c435120d11d3"
      },
      "source": [
        "X = X[:488:20]\n",
        "y = y[:488:20]\n",
        "\n",
        "fail_idxs = []\n",
        "\n",
        "for ind in tqdm(range(len(X))):\n",
        "    try:\n",
        "        words = split_by_word(X[ind])\n",
        "        X[ind] = get_embeddings(words)\n",
        "    except IndexError:\n",
        "        # remember to delete empty inputs\n",
        "        fail_idxs.append(ind)\n",
        "        continue\n",
        "\n",
        "# delete all songs which failed to convert into embeddings\n",
        "X = np.delete(X, fail_idxs)\n",
        "y = np.delete(y, fail_idxs)\n",
        "\n",
        "x_train, x_test, y_train, y_test = train_test_split(X, y, train_size = 0.9, shuffle = True)\n",
        "\n",
        "# convert numpy ys into torch tensor\n",
        "y_train = torch.from_numpy(y_train).type(torch.LongTensor)\n",
        "y_test = torch.from_numpy(y_test).type(torch.LongTensor)\n",
        "\n",
        "# Give dim for y labels\n",
        "y_train = torch.unsqueeze(y_train, 1)\n",
        "y_test = torch.unsqueeze(y_test, 1)"
      ],
      "execution_count": 9,
      "outputs": [
        {
          "output_type": "stream",
          "text": [
            "\r  0%|          | 0/25 [00:00<?, ?it/s]"
          ],
          "name": "stderr"
        },
        {
          "output_type": "display_data",
          "data": {
            "application/vnd.jupyter.widget-view+json": {
              "model_id": "ad63028599a84ae284afb9bde7377f5c",
              "version_minor": 0,
              "version_major": 2
            },
            "text/plain": [
              "HBox(children=(FloatProgress(value=0.0, max=244733649.0), HTML(value='')))"
            ]
          },
          "metadata": {
            "tags": []
          }
        },
        {
          "output_type": "stream",
          "text": [
            "\n"
          ],
          "name": "stdout"
        },
        {
          "output_type": "stream",
          "text": [
            "100%|██████████| 25/25 [01:28<00:00,  3.54s/it]\n"
          ],
          "name": "stderr"
        }
      ]
    },
    {
      "cell_type": "code",
      "metadata": {
        "colab": {
          "base_uri": "https://localhost:8080/"
        },
        "id": "-2NU7qYL_IML",
        "outputId": "26c0f4f3-3c39-4e1b-fb74-aeb82d173870"
      },
      "source": [
        "# with open('/content/drive/MyDrive/embeddings.pkl', 'wb') as f:\n",
        "#     pickle.dump((X,y), f)\n",
        "\n",
        "# with open('/content/drive/MyDrive/embeddings.pkl', 'rb') as f:\n",
        "#     X, y = pickle.load(f)"
      ],
      "execution_count": 21,
      "outputs": [
        {
          "output_type": "execute_result",
          "data": {
            "text/plain": [
              "torch.Size([1, 280, 768])"
            ]
          },
          "metadata": {
            "tags": []
          },
          "execution_count": 21
        }
      ]
    },
    {
      "cell_type": "code",
      "metadata": {
        "id": "yVLfjWc2HFl5"
      },
      "source": [
        "y_train = y_train.to(device)"
      ],
      "execution_count": 11,
      "outputs": []
    },
    {
      "cell_type": "code",
      "metadata": {
        "id": "jFOWLaXK17FG"
      },
      "source": [
        "class BiDir_LSTM(nn.Module):\n",
        "    def __init__(self, input_size, hidden_size, output_size):\n",
        "      super(BiDir_LSTM, self).__init__()\n",
        "\n",
        "      #define hidden size\n",
        "      self.hidden_size = hidden_size\n",
        "\n",
        "      #define rnn layer\n",
        "      self.lstm = nn.LSTM(input_size, hidden_size, 1, batch_first=True, bidirectional=True)\n",
        "      #define fully connected layer\n",
        "      self.fc = nn.Linear(hidden_size, output_size)\n",
        "\n",
        "    def forward(self, input):\n",
        "\n",
        "      # # # init hidden state\n",
        "      h0 = torch.zeros(2, 1, self.hidden_size).to(device)\n",
        "      c0 = torch.zeros(2, 1, self.hidden_size).to(device)\n",
        "\n",
        "      # pass input and h0 into rnn\n",
        "      out, (h_out, c_out) = self.lstm(input, (h0, c0))\n",
        "\n",
        "      out = out.reshape(-1, self.hidden_size)\n",
        "      out = self.fc(out[-1])\n",
        "      out = F.log_softmax(torch.unsqueeze(out, 0), dim=1)\n",
        "      return out"
      ],
      "execution_count": 16,
      "outputs": []
    },
    {
      "cell_type": "code",
      "metadata": {
        "id": "mEy0HfuX232A"
      },
      "source": [
        "num_artists = len(np.unique(some_songs.artist.cat.codes.values))\n",
        "\n",
        "# define hyper params\n",
        "rnn_model = BiDir_LSTM(input_size=768, hidden_size=128, output_size=num_artists).to(device)\n",
        "\n",
        "num_epochs = 50\n",
        "lr = 0.05\n",
        "\n",
        "criterion = nn.CrossEntropyLoss()\n",
        "optimiser = torch.optim.Adam(rnn_model.parameters(), lr=lr)"
      ],
      "execution_count": 17,
      "outputs": []
    },
    {
      "cell_type": "code",
      "metadata": {
        "id": "qiIWrBsi3qZH"
      },
      "source": [
        "for epoch in range(num_epochs):\n",
        "    for x_val, y_val in zip(x_train, y_train):\n",
        "        rnn_model.train()\n",
        "        optimiser.zero_grad()\n",
        "\n",
        "        x_val = x_val.to(device)\n",
        "        out = rnn_model(x_val)\n",
        "        train_loss = criterion(out, y_val)\n",
        "\n",
        "        train_loss.backward()\n",
        "        optimiser.step()"
      ],
      "execution_count": 18,
      "outputs": []
    },
    {
      "cell_type": "code",
      "metadata": {
        "colab": {
          "base_uri": "https://localhost:8080/"
        },
        "id": "p4jlEK6E4m9o",
        "outputId": "77714dfd-80cc-4475-d345-1491c6600113"
      },
      "source": [
        "def Accuracy(xs, ys):\n",
        "    correct = 0\n",
        "    for i in range(len(xs)):\n",
        "        # run through model\n",
        "        test_sample = xs[i].to(device)\n",
        "        pred = rnn_model(test_sample)\n",
        "        # calc argmax\n",
        "        pred = torch.argmax(pred).item()\n",
        "        # sum up correct predictions\n",
        "        correct += (pred == ys[i].item())\n",
        "    return correct/len(xs)\n",
        "\n",
        "test_acc = Accuracy(x_test, y_test)\n",
        "print('{}% Test Accuracy'.format(test_acc*100))\n",
        "\n",
        "train_acc = Accuracy(x_train, y_train)\n",
        "print('{}% Train Accuracy'.format(train_acc*100))"
      ],
      "execution_count": 24,
      "outputs": [
        {
          "output_type": "stream",
          "text": [
            "3\n",
            "3\n",
            "3\n",
            "0.0% Test Accuracy\n",
            "3\n",
            "3\n",
            "3\n",
            "3\n",
            "3\n",
            "3\n",
            "3\n",
            "3\n",
            "3\n",
            "3\n",
            "3\n",
            "3\n",
            "3\n",
            "3\n",
            "3\n",
            "3\n",
            "3\n",
            "3\n",
            "3\n",
            "3\n",
            "3\n",
            "3\n",
            "9.090909090909092% Train Accuracy\n"
          ],
          "name": "stdout"
        }
      ]
    },
    {
      "cell_type": "code",
      "metadata": {
        "id": "glWSg3hs6l2c"
      },
      "source": [
        ""
      ],
      "execution_count": null,
      "outputs": []
    }
  ]
}