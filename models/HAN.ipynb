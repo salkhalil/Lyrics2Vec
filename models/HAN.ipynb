{
 "cells": [
  {
   "cell_type": "code",
   "execution_count": 11,
   "metadata": {},
   "outputs": [],
   "source": [
    "# import libraries\n",
    "import torch\n",
    "import torch.nn as nn\n",
    "import pandas as pd\n",
    "from sklearn.model_selection import train_test_split\n",
    "import re\n",
    "from sentence_transformers import SentenceTransformer\n",
    "import pickle"
   ]
  },
  {
   "cell_type": "markdown",
   "metadata": {},
   "source": [
    "# 1 - Dataset "
   ]
  },
  {
   "cell_type": "code",
   "execution_count": 21,
   "metadata": {},
   "outputs": [],
   "source": [
    "with open('../saved_embeddings/embeddings.pkl', 'rb') as f:\n",
    "    X, y = pickle.load(f)"
   ]
  },
  {
   "cell_type": "code",
   "execution_count": 54,
   "metadata": {},
   "outputs": [],
   "source": [
    "x_train, x_test, y_train, y_test = train_test_split(X, y, train_size = 0.9, shuffle = True)"
   ]
  },
  {
   "cell_type": "markdown",
   "metadata": {},
   "source": [
    "# 2 - Model Construction"
   ]
  },
  {
   "cell_type": "markdown",
   "metadata": {},
   "source": [
    "## 2.1 - Word Level RNN"
   ]
  },
  {
   "cell_type": "code",
   "execution_count": 51,
   "metadata": {},
   "outputs": [],
   "source": [
    "class WordLevelRNN(nn.Module):\n",
    "    def __init__(self, words_dim, word_num_hidden):\n",
    "        super().__init__()\n",
    "        \n",
    "        self.word_context_weights = nn.Parameter(torch.rand(2 * word_num_hidden, 1))\n",
    "        self.word_context_weights.data.uniform_(-0.25, 0.25)\n",
    "        \n",
    "        self.GRU = nn.GRU(words_dim, word_num_hidden, 1, batch_first=True, bidirectional=True)\n",
    "        self.linear = nn.Linear(2 * word_num_hidden, 2 * word_num_hidden, bias=True)\n",
    "        \n",
    "        self.soft_word = nn.Softmax()\n",
    "        \n",
    "    def forward(self, x):\n",
    "        # RNN layer\n",
    "        print(x.size())\n",
    "        h, _ = self.GRU(x)\n",
    "        x = torch.tanh(self.linear(h))\n",
    "        \n",
    "        # attention layer\n",
    "        x = torch.matmul(x, self.word_context_weights)\n",
    "        x = x.squeeze(dim=2)\n",
    "        \n",
    "        # output layer\n",
    "        x = self.soft_word(x.transpose(1, 0))\n",
    "        x = torch.mul(h.permute(2, 0, 1), x.transpose(1, 0))\n",
    "        x = torch.sum(x, dim=1).transpose(1, 0).unsqueeze(0)\n",
    "        return x"
   ]
  },
  {
   "cell_type": "markdown",
   "metadata": {},
   "source": [
    "## 2.2 - Sentence Level RNN"
   ]
  },
  {
   "cell_type": "code",
   "execution_count": 47,
   "metadata": {},
   "outputs": [],
   "source": [
    "class SentLevelRNN(nn.Module):\n",
    "    def __init__(self, sentence_num_hidden, word_num_hidden, target_class):\n",
    "        super().__init__()\n",
    "        \n",
    "        self.sentence_context_weights = nn.Parameter(torch.rand(2 * sentence_num_hidden, 1))\n",
    "        self.sentence_context_weights.data.uniform_(-0.1, 0.1)\n",
    "        \n",
    "        self.sentence_gru = nn.GRU(2 * word_num_hidden, sentence_num_hidden, bidirectional=True)\n",
    "        self.sentence_linear = nn.Linear(2 * sentence_num_hidden, 2 * sentence_num_hidden, bias=True)\n",
    "        \n",
    "        self.fc = nn.Linear(2 * sentence_num_hidden , target_class)\n",
    "        self.soft_sent = nn.Softmax()\n",
    "        \n",
    "    def forward(self,x):\n",
    "        # RNN layer\n",
    "        sentence_h,_ = self.sentence_gru(x)\n",
    "        x = torch.tanh(self.sentence_linear(sentence_h))\n",
    "        \n",
    "        # attention layer\n",
    "        x = torch.matmul(x, self.sentence_context_weights)\n",
    "        x = x.squeeze(dim=2)\n",
    "        \n",
    "        # output layer\n",
    "        x = self.soft_sent(x.transpose(1,0))\n",
    "        x = torch.mul(sentence_h.permute(2, 0, 1), x.transpose(1, 0))\n",
    "        x = torch.sum(x, dim=1).transpose(1, 0).unsqueeze(0)\n",
    "        x = self.fc(x.squeeze(0))\n",
    "        return x"
   ]
  },
  {
   "cell_type": "markdown",
   "metadata": {},
   "source": [
    "## 2.3 - HAN"
   ]
  },
  {
   "cell_type": "code",
   "execution_count": 56,
   "metadata": {},
   "outputs": [],
   "source": [
    "class HAN(nn.Module):\n",
    "\n",
    "    def __init__(self, word_num_hidden, words_dim, sentence_num_hidden, target_class):\n",
    "        super().__init__()\n",
    "        self.word_attention_rnn = WordLevelRNN(word_num_hidden, words_dim)\n",
    "        self.sentence_attention_rnn = SentLevelRNN(sentence_num_hidden, word_num_hidden, target_class)\n",
    "\n",
    "    def forward(self, x):\n",
    "        # todo include the fact that the embeddings are already passed in\n",
    "        x = x.permute(1, 2, 0) # Expected : # sentences, # words, batch size\n",
    "        num_sentences = x.size(0)\n",
    "        word_attentions = None\n",
    "        \n",
    "        for i in range(num_sentences):\n",
    "            word_attn = self.word_attention_rnn(x)\n",
    "            if word_attentions is None:\n",
    "                word_attentions = word_attn\n",
    "            else:\n",
    "                word_attentions = torch.cat((word_attentions, word_attn), 0)\n",
    "        return self.sentence_attention_rnn(word_attentions)"
   ]
  },
  {
   "cell_type": "markdown",
   "metadata": {},
   "source": [
    "# 3 - Model Training"
   ]
  },
  {
   "cell_type": "code",
   "execution_count": 57,
   "metadata": {},
   "outputs": [],
   "source": [
    "# model definition\n",
    "word_num_hidden = 256\n",
    "words_dim = 768\n",
    "sentence_num_hidden = 128\n",
    "target_class = 13\n",
    "\n",
    "model = HAN(word_num_hidden, words_dim, sentence_num_hidden, target_class)\n",
    "\n",
    "# define model parameters\n",
    "num_epochs = 1\n",
    "lr = 0.05\n",
    "\n",
    "criterion = nn.CrossEntropyLoss()\n",
    "optimiser = torch.optim.Adam(model.parameters(), lr=lr)"
   ]
  },
  {
   "cell_type": "code",
   "execution_count": null,
   "metadata": {},
   "outputs": [],
   "source": [
    "for epoch in range(num_epochs):\n",
    "    for x_val, y_val in zip(x_train, y_train):\n",
    "        model.train()\n",
    "        optimiser.zero_grad()\n",
    "        \n",
    "        out = model(x_val)\n",
    "        train_loss = criterion(out, y_val)\n",
    "\n",
    "        train_loss.backward()\n",
    "        optimiser.step()"
   ]
  },
  {
   "cell_type": "markdown",
   "metadata": {},
   "source": [
    "# 4 - Model Evaluation"
   ]
  },
  {
   "cell_type": "code",
   "execution_count": null,
   "metadata": {},
   "outputs": [],
   "source": [
    "def Accuracy(xs, ys):\n",
    "    correct = 0\n",
    "    for i in range(len(xs)):\n",
    "        # run through model\n",
    "        test_sample = xs[i].to(device)\n",
    "        pred = model(test_sample)\n",
    "        # calc argmax\n",
    "        pred = torch.argmax(pred).item()\n",
    "        # sum up correct predictions\n",
    "        correct += (pred == ys[i].item())\n",
    "    return correct/len(xs)\n",
    "\n",
    "test_acc = Accuracy(x_test, y_test)\n",
    "print('{}% Test Accuracy'.format(test_acc*100))\n",
    "\n",
    "train_acc = Accuracy(x_train, y_train)\n",
    "print('{}% Train Accuracy'.format(train_acc*100))"
   ]
  },
  {
   "cell_type": "markdown",
   "metadata": {},
   "source": [
    "Each song should be a list of verses\n",
    "Where each verse is a matrix of (1, #words, BERT_embedding_size)"
   ]
  },
  {
   "cell_type": "code",
   "execution_count": null,
   "metadata": {},
   "outputs": [],
   "source": []
  }
 ],
 "metadata": {
  "kernelspec": {
   "display_name": "Python 3",
   "language": "python",
   "name": "python3"
  },
  "language_info": {
   "codemirror_mode": {
    "name": "ipython",
    "version": 3
   },
   "file_extension": ".py",
   "mimetype": "text/x-python",
   "name": "python",
   "nbconvert_exporter": "python",
   "pygments_lexer": "ipython3",
   "version": "3.7.4"
  }
 },
 "nbformat": 4,
 "nbformat_minor": 4
}
