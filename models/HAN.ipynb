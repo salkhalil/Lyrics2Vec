{
  "nbformat": 4,
  "nbformat_minor": 0,
  "metadata": {
    "kernelspec": {
      "display_name": "Python 3",
      "language": "python",
      "name": "python3"
    },
    "language_info": {
      "codemirror_mode": {
        "name": "ipython",
        "version": 3
      },
      "file_extension": ".py",
      "mimetype": "text/x-python",
      "name": "python",
      "nbconvert_exporter": "python",
      "pygments_lexer": "ipython3",
      "version": "3.7.4"
    },
    "colab": {
      "name": "HAN.ipynb",
      "provenance": []
    },
    "accelerator": "GPU"
  },
  "cells": [
    {
      "cell_type": "code",
      "metadata": {
        "id": "GISdzSBEKf9b"
      },
      "source": [
        "# !pip install sentence_transformers"
      ],
      "execution_count": null,
      "outputs": []
    },
    {
      "cell_type": "code",
      "metadata": {
        "id": "5GVrLIlSKL2P"
      },
      "source": [
        "# import libraries\n",
        "import torch\n",
        "import torch.nn as nn\n",
        "import pandas as pd\n",
        "from sklearn.model_selection import train_test_split\n",
        "import re\n",
        "# from sentence_transformers import SentenceTransformer\n",
        "import pickle\n",
        "import numpy as np\n",
        "import matplotlib.pyplot as plt"
      ],
      "execution_count": 1,
      "outputs": []
    },
    {
      "cell_type": "code",
      "metadata": {
        "colab": {
          "base_uri": "https://localhost:8080/"
        },
        "id": "47uzp2YfKdKC",
        "outputId": "4985531c-47ea-42a2-da0e-bd98eea1355d"
      },
      "source": [
        "from google.colab import drive\n",
        "drive.mount('/content/drive')"
      ],
      "execution_count": 2,
      "outputs": [
        {
          "output_type": "stream",
          "text": [
            "Mounted at /content/drive\n"
          ],
          "name": "stdout"
        }
      ]
    },
    {
      "cell_type": "code",
      "metadata": {
        "colab": {
          "base_uri": "https://localhost:8080/"
        },
        "id": "ZTRQgPQZK8bL",
        "outputId": "ec8f0c31-3ca3-45b4-d926-1d24d00ed9c5"
      },
      "source": [
        "# set up GPU\n",
        "device = torch.device(\"cuda\" if torch.cuda.is_available() else \"cpu\")\n",
        "print(device)"
      ],
      "execution_count": 3,
      "outputs": [
        {
          "output_type": "stream",
          "text": [
            "cuda\n"
          ],
          "name": "stdout"
        }
      ]
    },
    {
      "cell_type": "markdown",
      "metadata": {
        "id": "nlaVuC7NKL2W"
      },
      "source": [
        "# 1 - Dataset "
      ]
    },
    {
      "cell_type": "code",
      "metadata": {
        "id": "qizC-ms2KL2W"
      },
      "source": [
        "with open('/content/drive/MyDrive/enc_bar', 'rb') as f:\n",
        "    X = pickle.load(f)"
      ],
      "execution_count": 4,
      "outputs": []
    },
    {
      "cell_type": "code",
      "metadata": {
        "colab": {
          "base_uri": "https://localhost:8080/",
          "height": 419
        },
        "id": "jBR4a1B_KL2X",
        "outputId": "8b428a33-59c4-4fe5-a148-d567aec741f7"
      },
      "source": [
        "all_songs = pd.read_csv('/content/drive/MyDrive/all_songs.csv')\n",
        "all_songs['artist'] = all_songs['artist'].astype('category') # convert to categorical to get numerical classes\n",
        "some_songs = all_songs.loc[all_songs['lyrics'].str.startswith('[').fillna(False)]\n",
        "some_songs"
      ],
      "execution_count": 5,
      "outputs": [
        {
          "output_type": "execute_result",
          "data": {
            "text/html": [
              "<div>\n",
              "<style scoped>\n",
              "    .dataframe tbody tr th:only-of-type {\n",
              "        vertical-align: middle;\n",
              "    }\n",
              "\n",
              "    .dataframe tbody tr th {\n",
              "        vertical-align: top;\n",
              "    }\n",
              "\n",
              "    .dataframe thead th {\n",
              "        text-align: right;\n",
              "    }\n",
              "</style>\n",
              "<table border=\"1\" class=\"dataframe\">\n",
              "  <thead>\n",
              "    <tr style=\"text-align: right;\">\n",
              "      <th></th>\n",
              "      <th>song title</th>\n",
              "      <th>lyrics</th>\n",
              "      <th>artist</th>\n",
              "    </tr>\n",
              "  </thead>\n",
              "  <tbody>\n",
              "    <tr>\n",
              "      <th>0</th>\n",
              "      <td>In Da Club</td>\n",
              "      <td>[Intro]\\nGo, go, go, go, go, go\\nGo Shorty, it...</td>\n",
              "      <td>50 Cent</td>\n",
              "    </tr>\n",
              "    <tr>\n",
              "      <th>1</th>\n",
              "      <td>21 Questions</td>\n",
              "      <td>[Ad-Libs]\\nNew York City\\nYou are now rockin'\\...</td>\n",
              "      <td>50 Cent</td>\n",
              "    </tr>\n",
              "    <tr>\n",
              "      <th>2</th>\n",
              "      <td>Many Men (Wish Death)</td>\n",
              "      <td>[Skit]\\nMan, we gotta go get somethin' to eat\\...</td>\n",
              "      <td>50 Cent</td>\n",
              "    </tr>\n",
              "    <tr>\n",
              "      <th>3</th>\n",
              "      <td>My Life</td>\n",
              "      <td>[Chorus]\\nMy, yeah, yeah, mmm\\nMy life, my lif...</td>\n",
              "      <td>50 Cent</td>\n",
              "    </tr>\n",
              "    <tr>\n",
              "      <th>4</th>\n",
              "      <td>Patiently Waiting</td>\n",
              "      <td>[Intro]\\nHey Em, you know you're my favorite w...</td>\n",
              "      <td>50 Cent</td>\n",
              "    </tr>\n",
              "    <tr>\n",
              "      <th>...</th>\n",
              "      <td>...</td>\n",
              "      <td>...</td>\n",
              "      <td>...</td>\n",
              "    </tr>\n",
              "    <tr>\n",
              "      <th>575</th>\n",
              "      <td>Cruisin’</td>\n",
              "      <td>[Intro]\\n(Crusin')\\n\\n[Verse 1]\\nBaby, let's c...</td>\n",
              "      <td>Smokey Robinson</td>\n",
              "    </tr>\n",
              "    <tr>\n",
              "      <th>576</th>\n",
              "      <td>Really Gonna Miss You</td>\n",
              "      <td>[Verse 1]\\nReally gonna miss you\\nIt's really ...</td>\n",
              "      <td>Smokey Robinson</td>\n",
              "    </tr>\n",
              "    <tr>\n",
              "      <th>579</th>\n",
              "      <td>The Agony and the Ecstasy</td>\n",
              "      <td>[Verse 1]\\nWhat's it all about this crazy love...</td>\n",
              "      <td>Smokey Robinson</td>\n",
              "    </tr>\n",
              "    <tr>\n",
              "      <th>582</th>\n",
              "      <td>Ooh Baby Baby</td>\n",
              "      <td>[Verse 1]\\nI did you wrong\\nMy heart went out ...</td>\n",
              "      <td>Smokey Robinson</td>\n",
              "    </tr>\n",
              "    <tr>\n",
              "      <th>587</th>\n",
              "      <td>My Girl</td>\n",
              "      <td>[Intro]\\nOoh, ooh-ooh, ooh (Ooh)\\nOoh, ooh-ooh...</td>\n",
              "      <td>Smokey Robinson</td>\n",
              "    </tr>\n",
              "  </tbody>\n",
              "</table>\n",
              "<p>488 rows × 3 columns</p>\n",
              "</div>"
            ],
            "text/plain": [
              "                    song title  ...           artist\n",
              "0                   In Da Club  ...          50 Cent\n",
              "1                 21 Questions  ...          50 Cent\n",
              "2        Many Men (Wish Death)  ...          50 Cent\n",
              "3                      My Life  ...          50 Cent\n",
              "4            Patiently Waiting  ...          50 Cent\n",
              "..                         ...  ...              ...\n",
              "575                   Cruisin’  ...  Smokey Robinson\n",
              "576      Really Gonna Miss You  ...  Smokey Robinson\n",
              "579  The Agony and the Ecstasy  ...  Smokey Robinson\n",
              "582              Ooh Baby Baby  ...  Smokey Robinson\n",
              "587                    My Girl  ...  Smokey Robinson\n",
              "\n",
              "[488 rows x 3 columns]"
            ]
          },
          "metadata": {
            "tags": []
          },
          "execution_count": 5
        }
      ]
    },
    {
      "cell_type": "code",
      "metadata": {
        "id": "81LxjjI6KL2Y"
      },
      "source": [
        "# create labels\n",
        "y = some_songs.artist.cat.codes.values\n",
        "\n",
        "# del idx 158 & 224\n",
        "y = np.delete(y, [158,224])"
      ],
      "execution_count": 6,
      "outputs": []
    },
    {
      "cell_type": "code",
      "metadata": {
        "id": "65s_GCKKKL2Y"
      },
      "source": [
        "x_train, x_test, y_train, y_test = train_test_split(X, y, train_size = 0.9, shuffle = True)\n",
        "\n",
        "y_train = torch.LongTensor(y_train).to(device)\n",
        "y_test = torch.LongTensor(y_test).to(device)"
      ],
      "execution_count": 7,
      "outputs": []
    },
    {
      "cell_type": "markdown",
      "metadata": {
        "id": "pkMMLZfXKL2Z"
      },
      "source": [
        "# 2 - Model Construction"
      ]
    },
    {
      "cell_type": "markdown",
      "metadata": {
        "id": "JVBSZcYuKL2Z"
      },
      "source": [
        "## 2.1 - Word Level RNN"
      ]
    },
    {
      "cell_type": "code",
      "metadata": {
        "id": "F9J9rqsPKL2Z"
      },
      "source": [
        "class WordLevelRNN(nn.Module):\n",
        "    def __init__(self, word_num_hidden):\n",
        "        super().__init__()\n",
        "        \n",
        "        self.word_context_weights = nn.Parameter(torch.rand(2 * word_num_hidden, 1))\n",
        "        self.word_context_weights.data.uniform_(-0.25, 0.25)\n",
        "        \n",
        "        self.GRU = nn.GRU(word_num_hidden, word_num_hidden, 1, batch_first=True, bidirectional=True)\n",
        "        self.linear = nn.Linear(2 * word_num_hidden, 2 * word_num_hidden, bias=True)\n",
        "        \n",
        "        self.soft_word = nn.Softmax()\n",
        "        \n",
        "    def forward(self, x):\n",
        "        # RNN layer\n",
        "        h, _ = self.GRU(x)\n",
        "        x = torch.tanh(self.linear(h))\n",
        "        \n",
        "        # attention layer\n",
        "        x = torch.matmul(x, self.word_context_weights)\n",
        "        x = x.squeeze(dim=2)\n",
        "        \n",
        "        # output layer\n",
        "        x = self.soft_word(x.transpose(1, 0))\n",
        "        x = torch.mul(h.permute(2, 0, 1), x.transpose(1, 0))\n",
        "        x = torch.sum(x, dim=2).transpose(1, 0).unsqueeze(0)\n",
        "        \n",
        "        # should output bars combined into one verse embedding\n",
        "        return x"
      ],
      "execution_count": 8,
      "outputs": []
    },
    {
      "cell_type": "markdown",
      "metadata": {
        "id": "X2Y8y-osKL2a"
      },
      "source": [
        "## 2.2 - Sentence Level RNN"
      ]
    },
    {
      "cell_type": "code",
      "metadata": {
        "id": "FalbCtPyKL2a"
      },
      "source": [
        "class SentLevelRNN(nn.Module):\n",
        "    def __init__(self, sentence_num_hidden, word_num_hidden, target_class):\n",
        "        super().__init__()\n",
        "        \n",
        "        self.sentence_context_weights = nn.Parameter(torch.rand(2 * sentence_num_hidden, 1))\n",
        "        self.sentence_context_weights.data.uniform_(-0.1, 0.1)\n",
        "        \n",
        "        self.sentence_gru = nn.GRU(2 * word_num_hidden, sentence_num_hidden, bidirectional=True)\n",
        "        self.sentence_linear = nn.Linear(2 * sentence_num_hidden, 2 * sentence_num_hidden, bias=True)\n",
        "        \n",
        "        self.fc = nn.Linear(2 * sentence_num_hidden , target_class)\n",
        "        self.soft_sent = nn.Softmax()\n",
        "        \n",
        "    def forward(self,x):\n",
        "        # RNN layer\n",
        "        sentence_h,_ = self.sentence_gru(x)\n",
        "        x = torch.tanh(self.sentence_linear(sentence_h))\n",
        "        \n",
        "        # attention layer\n",
        "        x = torch.matmul(x, self.sentence_context_weights)\n",
        "        x = x.squeeze(dim=2)\n",
        "        \n",
        "        # output layer\n",
        "        x = self.soft_sent(x.transpose(1,0))\n",
        "        x = torch.mul(sentence_h.permute(2, 0, 1), x.transpose(1, 0))\n",
        "        x = torch.sum(x, dim=1).transpose(1, 0).unsqueeze(0)\n",
        "        x = self.fc(x.squeeze(0))\n",
        "        return x"
      ],
      "execution_count": 9,
      "outputs": []
    },
    {
      "cell_type": "markdown",
      "metadata": {
        "id": "pwZ3ZP-dKL2b"
      },
      "source": [
        "## 2.3 - HAN"
      ]
    },
    {
      "cell_type": "code",
      "metadata": {
        "id": "qmoB1xUnKL2b"
      },
      "source": [
        "class HAN(nn.Module):\n",
        "\n",
        "    def __init__(self, word_num_hidden, sentence_num_hidden, target_class):\n",
        "        super().__init__()\n",
        "        self.word_attention_rnn = WordLevelRNN(word_num_hidden)\n",
        "        self.sentence_attention_rnn = SentLevelRNN(sentence_num_hidden, word_num_hidden, target_class)\n",
        "\n",
        "    def forward(self, x):\n",
        "        # todo include the fact that the embeddings are already passed in\n",
        "        \n",
        "        # x is list of tensors of size [1: #bar: #embedding size]\n",
        "#         x = x.permute(1, 2, 0) # Expected : # sentences, # words, batch size\n",
        "\n",
        "        num_verses = len(x)\n",
        "        word_attentions = None\n",
        "        \n",
        "        for i in range(num_verses):\n",
        "            # x[i] is a verse of size (1, #bars, 768)\n",
        "            if len(x[i].size()) != 3:\n",
        "                continue\n",
        "            \n",
        "            input = x[i].to(device)\n",
        "            word_attn = self.word_attention_rnn(input)\n",
        "            if word_attentions is None:\n",
        "                word_attentions = word_attn\n",
        "            else:\n",
        "                word_attentions = torch.cat((word_attentions, word_attn), 0)\n",
        "        return self.sentence_attention_rnn(word_attentions)"
      ],
      "execution_count": 10,
      "outputs": []
    },
    {
      "cell_type": "markdown",
      "metadata": {
        "id": "KnHKOAFNKL2b"
      },
      "source": [
        "# 3 - Model Training"
      ]
    },
    {
      "cell_type": "code",
      "metadata": {
        "id": "DbJCwmGDKL2c"
      },
      "source": [
        "# model definition\n",
        "word_num_hidden = 768\n",
        "sentence_num_hidden = 128\n",
        "target_class = 13\n",
        "\n",
        "model = HAN(word_num_hidden, sentence_num_hidden, target_class).to(device)\n",
        "\n",
        "# define model parameters\n",
        "num_epochs = 5\n",
        "lr = 0.05\n",
        "\n",
        "criterion = nn.CrossEntropyLoss()\n",
        "optimiser = torch.optim.Adam(model.parameters(), lr=lr)"
      ],
      "execution_count": 25,
      "outputs": []
    },
    {
      "cell_type": "code",
      "metadata": {
        "id": "yzz00kU8NuO9"
      },
      "source": [
        "torch.cuda.empty_cache()"
      ],
      "execution_count": 26,
      "outputs": []
    },
    {
      "cell_type": "code",
      "metadata": {
        "colab": {
          "base_uri": "https://localhost:8080/"
        },
        "id": "uR9w14FyKL2c",
        "outputId": "8d009a67-df10-4b41-dad9-9ab6dad8131a"
      },
      "source": [
        "avg_losses = []\n",
        "\n",
        "for epoch in range(num_epochs):\n",
        "    epoch_losses = []\n",
        "    for x_val, y_val in zip(x_train, y_train):\n",
        "        model.train()\n",
        "        optimiser.zero_grad()\n",
        "\n",
        "        # x_val has length = # of verses\n",
        "        try:\n",
        "            out = model(x_val)\n",
        "        except AttributeError:\n",
        "            continue\n",
        "        label = torch.tensor([y_val]).to(device)\n",
        "        train_loss = criterion(out, label)\n",
        "        epoch_losses.append(train_loss.item())\n",
        "        train_loss.backward()\n",
        "        optimiser.step()\n",
        "    avg_loss = sum(epoch_losses)/len(epoch_losses)\n",
        "    avg_losses.append(avg_loss)\n",
        "    print('Epoch: {} .......... Training Loss: {}'.format(epoch, avg_loss))"
      ],
      "execution_count": 27,
      "outputs": [
        {
          "output_type": "stream",
          "text": [
            "/usr/local/lib/python3.7/dist-packages/ipykernel_launcher.py:23: UserWarning: Implicit dimension choice for softmax has been deprecated. Change the call to include dim=X as an argument.\n",
            "/usr/local/lib/python3.7/dist-packages/ipykernel_launcher.py:24: UserWarning: Implicit dimension choice for softmax has been deprecated. Change the call to include dim=X as an argument.\n"
          ],
          "name": "stderr"
        },
        {
          "output_type": "stream",
          "text": [
            "Epoch: 0 .......... Training Loss: 10.18008034476378\n",
            "Epoch: 1 .......... Training Loss: 9.914139961009448\n",
            "Epoch: 2 .......... Training Loss: 9.932815305495618\n",
            "Epoch: 3 .......... Training Loss: 9.468895170079339\n",
            "Epoch: 4 .......... Training Loss: 10.101208521563713\n"
          ],
          "name": "stdout"
        }
      ]
    },
    {
      "cell_type": "markdown",
      "metadata": {
        "id": "jROblKuIKL2d"
      },
      "source": [
        "# 4 - Model Evaluation"
      ]
    },
    {
      "cell_type": "code",
      "metadata": {
        "colab": {
          "base_uri": "https://localhost:8080/",
          "height": 265
        },
        "id": "RXDKnKuRM4K6",
        "outputId": "0ec95983-8254-4e21-d6a7-145b78f8863b"
      },
      "source": [
        "plt.plot(np.arange(start=0, stop=len(avg_losses)), np.array(avg_losses))\n",
        "plt.show()"
      ],
      "execution_count": 28,
      "outputs": [
        {
          "output_type": "display_data",
          "data": {
            "image/png": "[encoded data removed]",
            "text/plain": [
              "<Figure size 432x288 with 1 Axes>"
            ]
          },
          "metadata": {
            "tags": [],
            "needs_background": "light"
          }
        }
      ]
    },
    {
      "cell_type": "code",
      "metadata": {
        "colab": {
          "base_uri": "https://localhost:8080/"
        },
        "id": "WYrO3rCiKL2d",
        "outputId": "68148d04-2d28-4830-a2ff-cec690a766b0"
      },
      "source": [
        "def Accuracy(xs, ys):\n",
        "    correct = 0\n",
        "    for i in range(len(xs)):\n",
        "        # run through model\n",
        "        test_sample = xs[i]\n",
        "\n",
        "        try:\n",
        "            pred = model(test_sample)\n",
        "        except AttributeError:\n",
        "            print('Test Sample #{} identified as NoneType'.format(i))\n",
        "            continue\n",
        "        # calc argmax\n",
        "        pred = torch.argmax(pred).item()\n",
        "        # sum up correct predictions\n",
        "        correct += (pred == ys[i].item())\n",
        "    return correct/len(xs)\n",
        "\n",
        "test_acc = Accuracy(x_test, y_test)\n",
        "print('{:.3f}% Test Accuracy'.format(test_acc*100))\n",
        "\n",
        "train_acc = Accuracy(x_train, y_train)\n",
        "print('{:.3f}% Train Accuracy'.format(train_acc*100))"
      ],
      "execution_count": 29,
      "outputs": [
        {
          "output_type": "stream",
          "text": [
            "/usr/local/lib/python3.7/dist-packages/ipykernel_launcher.py:23: UserWarning: Implicit dimension choice for softmax has been deprecated. Change the call to include dim=X as an argument.\n",
            "/usr/local/lib/python3.7/dist-packages/ipykernel_launcher.py:24: UserWarning: Implicit dimension choice for softmax has been deprecated. Change the call to include dim=X as an argument.\n"
          ],
          "name": "stderr"
        },
        {
          "output_type": "stream",
          "text": [
            "10.204% Test Accuracy\n",
            "Test Sample #310 identified as NoneType\n",
            "9.840% Train Accuracy\n"
          ],
          "name": "stdout"
        }
      ]
    },
    {
      "cell_type": "code",
      "metadata": {
        "colab": {
          "base_uri": "https://localhost:8080/"
        },
        "id": "Sa_CBBV36031",
        "outputId": "84f652fa-4a77-4c0f-8821-373e4c5df473"
      },
      "source": [
        "len(x_train)"
      ],
      "execution_count": 30,
      "outputs": [
        {
          "output_type": "execute_result",
          "data": {
            "text/plain": [
              "437"
            ]
          },
          "metadata": {
            "tags": []
          },
          "execution_count": 30
        }
      ]
    },
    {
      "cell_type": "code",
      "metadata": {
        "colab": {
          "base_uri": "https://localhost:8080/"
        },
        "id": "Z8EEUvNk67Uz",
        "outputId": "64316a33-8178-4ca6-83d8-5129bc29e40c"
      },
      "source": [
        "len(x_test)"
      ],
      "execution_count": 31,
      "outputs": [
        {
          "output_type": "execute_result",
          "data": {
            "text/plain": [
              "49"
            ]
          },
          "metadata": {
            "tags": []
          },
          "execution_count": 31
        }
      ]
    },
    {
      "cell_type": "code",
      "metadata": {
        "id": "Y1dm5OYW68VQ"
      },
      "source": [
        ""
      ],
      "execution_count": null,
      "outputs": []
    }
  ]
}