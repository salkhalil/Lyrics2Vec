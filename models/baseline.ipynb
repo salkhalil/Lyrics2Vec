{
 "cells": [
  {
   "cell_type": "code",
   "execution_count": 6,
   "metadata": {},
   "outputs": [
    {
     "name": "stdout",
     "output_type": "stream",
     "text": [
      "Collecting spacy-universal-sentence-encoder\n",
      "  Downloading https://files.pythonhosted.org/packages/23/07/a6e554cf93b410380c1f234079876334586474eb9cb9e75663516c371ed7/spacy_universal_sentence_encoder-0.4.1.tar.gz\n",
      "Collecting tensorflow<3.0.0,>=2.4.0 (from spacy-universal-sentence-encoder)\n",
      "\u001b[?25l  Downloading https://files.pythonhosted.org/packages/7b/61/743150d9cf5e028ac5cdd694ea26968a37ae054728c9d290c72c2687a982/tensorflow-2.4.1-cp37-cp37m-macosx_10_11_x86_64.whl (173.9MB)\n",
      "\u001b[K     |████████████████████████████████| 173.9MB 194kB/s eta 0:00:011     |███████████████████████▊        | 128.9MB 8.7MB/s eta 0:00:06\n",
      "\u001b[?25hRequirement already satisfied: spacy<4.0.0,>=3.0.0 in /Users/hiru/opt/anaconda3/lib/python3.7/site-packages (from spacy-universal-sentence-encoder) (3.0.3)\n",
      "Collecting tensorflow-hub (from spacy-universal-sentence-encoder)\n",
      "\u001b[?25l  Downloading https://files.pythonhosted.org/packages/f4/1f/ca72fa5400954903aa6f3354142cd66374604384fb13429af9e41b12120d/tensorflow_hub-0.11.0-py2.py3-none-any.whl (107kB)\n",
      "\u001b[K     |████████████████████████████████| 112kB 6.9MB/s eta 0:00:01\n",
      "\u001b[?25hCollecting gast==0.3.3 (from tensorflow<3.0.0,>=2.4.0->spacy-universal-sentence-encoder)\n",
      "  Downloading https://files.pythonhosted.org/packages/d6/84/759f5dd23fec8ba71952d97bcc7e2c9d7d63bdc582421f3cd4be845f0c98/gast-0.3.3-py2.py3-none-any.whl\n",
      "Collecting grpcio~=1.32.0 (from tensorflow<3.0.0,>=2.4.0->spacy-universal-sentence-encoder)\n",
      "\u001b[?25l  Downloading https://files.pythonhosted.org/packages/48/16/d229a9d7d45bafecfe6b4c9ebf2053ec929efc2ffbed0b1a89ef190ef4d9/grpcio-1.32.0-cp37-cp37m-macosx_10_9_x86_64.whl (3.3MB)\n",
      "\u001b[K     |████████████████████████████████| 3.3MB 13.3MB/s eta 0:00:01\n",
      "\u001b[?25hCollecting absl-py~=0.10 (from tensorflow<3.0.0,>=2.4.0->spacy-universal-sentence-encoder)\n",
      "\u001b[?25l  Downloading https://files.pythonhosted.org/packages/92/c9/ef0fae29182d7a867d203f0eff8296b60da92098cc41db33a434f4be84bf/absl_py-0.12.0-py3-none-any.whl (129kB)\n",
      "\u001b[K     |████████████████████████████████| 133kB 8.4MB/s eta 0:00:01\n",
      "\u001b[?25hCollecting opt-einsum~=3.3.0 (from tensorflow<3.0.0,>=2.4.0->spacy-universal-sentence-encoder)\n",
      "\u001b[?25l  Downloading https://files.pythonhosted.org/packages/bc/19/404708a7e54ad2798907210462fd950c3442ea51acc8790f3da48d2bee8b/opt_einsum-3.3.0-py3-none-any.whl (65kB)\n",
      "\u001b[K     |████████████████████████████████| 71kB 7.4MB/s eta 0:00:011\n",
      "\u001b[?25hRequirement already satisfied: termcolor~=1.1.0 in /Users/hiru/opt/anaconda3/lib/python3.7/site-packages (from tensorflow<3.0.0,>=2.4.0->spacy-universal-sentence-encoder) (1.1.0)\n",
      "Collecting numpy~=1.19.2 (from tensorflow<3.0.0,>=2.4.0->spacy-universal-sentence-encoder)\n",
      "\u001b[?25l  Downloading https://files.pythonhosted.org/packages/39/ba/f3db2b5bb36fee2478b1cf47e7f9664b9c27241be80acd31c844404da297/numpy-1.19.5-cp37-cp37m-macosx_10_9_x86_64.whl (15.6MB)\n",
      "\u001b[K     |████████████████████████████████| 15.6MB 16.2MB/s eta 0:00:01\n",
      "\u001b[?25hRequirement already satisfied: typing-extensions~=3.7.4 in /Users/hiru/opt/anaconda3/lib/python3.7/site-packages (from tensorflow<3.0.0,>=2.4.0->spacy-universal-sentence-encoder) (3.7.4.3)\n",
      "Collecting wrapt~=1.12.1 (from tensorflow<3.0.0,>=2.4.0->spacy-universal-sentence-encoder)\n",
      "  Downloading https://files.pythonhosted.org/packages/82/f7/e43cefbe88c5fd371f4cf0cf5eb3feccd07515af9fd6cf7dbf1d1793a797/wrapt-1.12.1.tar.gz\n",
      "Collecting protobuf>=3.9.2 (from tensorflow<3.0.0,>=2.4.0->spacy-universal-sentence-encoder)\n",
      "\u001b[?25l  Downloading https://files.pythonhosted.org/packages/e9/bb/6ca2011fd6cc62a942e1920cb0ddac348079af2d6fbf5ca84e9eb399ca71/protobuf-3.15.8-cp37-cp37m-macosx_10_9_x86_64.whl (1.0MB)\n",
      "\u001b[K     |████████████████████████████████| 1.0MB 6.4MB/s eta 0:00:01\n",
      "\u001b[?25hCollecting wheel~=0.35 (from tensorflow<3.0.0,>=2.4.0->spacy-universal-sentence-encoder)\n",
      "  Downloading https://files.pythonhosted.org/packages/65/63/39d04c74222770ed1589c0eaba06c05891801219272420b40311cd60c880/wheel-0.36.2-py2.py3-none-any.whl\n",
      "Collecting astunparse~=1.6.3 (from tensorflow<3.0.0,>=2.4.0->spacy-universal-sentence-encoder)\n",
      "  Downloading https://files.pythonhosted.org/packages/2b/03/13dde6512ad7b4557eb792fbcf0c653af6076b81e5941d36ec61f7ce6028/astunparse-1.6.3-py2.py3-none-any.whl\n",
      "Collecting tensorboard~=2.4 (from tensorflow<3.0.0,>=2.4.0->spacy-universal-sentence-encoder)\n",
      "\u001b[?25l  Downloading https://files.pythonhosted.org/packages/64/21/eebd23060763fedeefb78bc2b286e00fa1d8abda6f70efa2ee08c28af0d4/tensorboard-2.4.1-py3-none-any.whl (10.6MB)\n",
      "\u001b[K     |████████████████████████████████| 10.6MB 21.0MB/s eta 0:00:01\n",
      "\u001b[?25hCollecting tensorflow-estimator<2.5.0,>=2.4.0 (from tensorflow<3.0.0,>=2.4.0->spacy-universal-sentence-encoder)\n",
      "\u001b[?25l  Downloading https://files.pythonhosted.org/packages/74/7e/622d9849abf3afb81e482ffc170758742e392ee129ce1540611199a59237/tensorflow_estimator-2.4.0-py2.py3-none-any.whl (462kB)\n",
      "\u001b[K     |████████████████████████████████| 471kB 6.3MB/s eta 0:00:01\n",
      "\u001b[?25hCollecting google-pasta~=0.2 (from tensorflow<3.0.0,>=2.4.0->spacy-universal-sentence-encoder)\n",
      "\u001b[?25l  Downloading https://files.pythonhosted.org/packages/a3/de/c648ef6835192e6e2cc03f40b19eeda4382c49b5bafb43d88b931c4c74ac/google_pasta-0.2.0-py3-none-any.whl (57kB)\n",
      "\u001b[K     |████████████████████████████████| 61kB 5.6MB/s eta 0:00:01\n",
      "\u001b[?25hCollecting h5py~=2.10.0 (from tensorflow<3.0.0,>=2.4.0->spacy-universal-sentence-encoder)\n",
      "\u001b[?25l  Downloading https://files.pythonhosted.org/packages/1a/8b/4d01ae9a9d50a0bcc7b0b9aae41785d8d9de6fa9bba04dc20b1582181d2d/h5py-2.10.0-cp37-cp37m-macosx_10_6_intel.whl (3.0MB)\n",
      "\u001b[K     |████████████████████████████████| 3.0MB 4.5MB/s eta 0:00:01\n",
      "\u001b[?25hCollecting flatbuffers~=1.12.0 (from tensorflow<3.0.0,>=2.4.0->spacy-universal-sentence-encoder)\n",
      "  Downloading https://files.pythonhosted.org/packages/eb/26/712e578c5f14e26ae3314c39a1bdc4eb2ec2f4ddc89b708cf8e0a0d20423/flatbuffers-1.12-py2.py3-none-any.whl\n",
      "Collecting keras-preprocessing~=1.1.2 (from tensorflow<3.0.0,>=2.4.0->spacy-universal-sentence-encoder)\n",
      "\u001b[?25l  Downloading https://files.pythonhosted.org/packages/79/4c/7c3275a01e12ef9368a892926ab932b33bb13d55794881e3573482b378a7/Keras_Preprocessing-1.1.2-py2.py3-none-any.whl (42kB)\n",
      "\u001b[K     |████████████████████████████████| 51kB 8.8MB/s eta 0:00:01\n",
      "\u001b[?25hCollecting six~=1.15.0 (from tensorflow<3.0.0,>=2.4.0->spacy-universal-sentence-encoder)\n",
      "  Downloading https://files.pythonhosted.org/packages/ee/ff/48bde5c0f013094d729fe4b0316ba2a24774b3ff1c52d924a8a4cb04078a/six-1.15.0-py2.py3-none-any.whl\n",
      "Requirement already satisfied: blis<0.8.0,>=0.4.0 in /Users/hiru/opt/anaconda3/lib/python3.7/site-packages (from spacy<4.0.0,>=3.0.0->spacy-universal-sentence-encoder) (0.7.4)\n",
      "Requirement already satisfied: thinc<8.1.0,>=8.0.0 in /Users/hiru/opt/anaconda3/lib/python3.7/site-packages (from spacy<4.0.0,>=3.0.0->spacy-universal-sentence-encoder) (8.0.1)\n",
      "Requirement already satisfied: pydantic<1.8.0,>=1.7.1 in /Users/hiru/opt/anaconda3/lib/python3.7/site-packages (from spacy<4.0.0,>=3.0.0->spacy-universal-sentence-encoder) (1.7.3)\n",
      "Requirement already satisfied: tqdm<5.0.0,>=4.38.0 in /Users/hiru/opt/anaconda3/lib/python3.7/site-packages (from spacy<4.0.0,>=3.0.0->spacy-universal-sentence-encoder) (4.58.0)\n",
      "Requirement already satisfied: preshed<3.1.0,>=3.0.2 in /Users/hiru/opt/anaconda3/lib/python3.7/site-packages (from spacy<4.0.0,>=3.0.0->spacy-universal-sentence-encoder) (3.0.5)\n",
      "Requirement already satisfied: packaging>=20.0 in /Users/hiru/opt/anaconda3/lib/python3.7/site-packages (from spacy<4.0.0,>=3.0.0->spacy-universal-sentence-encoder) (20.9)\n",
      "Requirement already satisfied: pathy in /Users/hiru/opt/anaconda3/lib/python3.7/site-packages (from spacy<4.0.0,>=3.0.0->spacy-universal-sentence-encoder) (0.4.0)\n",
      "Requirement already satisfied: wasabi<1.1.0,>=0.8.1 in /Users/hiru/opt/anaconda3/lib/python3.7/site-packages (from spacy<4.0.0,>=3.0.0->spacy-universal-sentence-encoder) (0.8.2)\n",
      "Requirement already satisfied: srsly<3.0.0,>=2.4.0 in /Users/hiru/opt/anaconda3/lib/python3.7/site-packages (from spacy<4.0.0,>=3.0.0->spacy-universal-sentence-encoder) (2.4.0)\n",
      "Requirement already satisfied: requests<3.0.0,>=2.13.0 in /Users/hiru/opt/anaconda3/lib/python3.7/site-packages (from spacy<4.0.0,>=3.0.0->spacy-universal-sentence-encoder) (2.22.0)\n",
      "Requirement already satisfied: spacy-legacy<3.1.0,>=3.0.0 in /Users/hiru/opt/anaconda3/lib/python3.7/site-packages (from spacy<4.0.0,>=3.0.0->spacy-universal-sentence-encoder) (3.0.1)\n",
      "Requirement already satisfied: cymem<2.1.0,>=2.0.2 in /Users/hiru/opt/anaconda3/lib/python3.7/site-packages (from spacy<4.0.0,>=3.0.0->spacy-universal-sentence-encoder) (2.0.5)\n",
      "Requirement already satisfied: jinja2 in /Users/hiru/opt/anaconda3/lib/python3.7/site-packages (from spacy<4.0.0,>=3.0.0->spacy-universal-sentence-encoder) (2.10.3)\n",
      "Requirement already satisfied: murmurhash<1.1.0,>=0.28.0 in /Users/hiru/opt/anaconda3/lib/python3.7/site-packages (from spacy<4.0.0,>=3.0.0->spacy-universal-sentence-encoder) (1.0.5)\n",
      "Requirement already satisfied: typer<0.4.0,>=0.3.0 in /Users/hiru/opt/anaconda3/lib/python3.7/site-packages (from spacy<4.0.0,>=3.0.0->spacy-universal-sentence-encoder) (0.3.2)\n",
      "Requirement already satisfied: setuptools in /Users/hiru/opt/anaconda3/lib/python3.7/site-packages (from spacy<4.0.0,>=3.0.0->spacy-universal-sentence-encoder) (41.4.0)\n",
      "Requirement already satisfied: catalogue<2.1.0,>=2.0.1 in /Users/hiru/opt/anaconda3/lib/python3.7/site-packages (from spacy<4.0.0,>=3.0.0->spacy-universal-sentence-encoder) (2.0.1)\n",
      "Requirement already satisfied: importlib-metadata>=0.20; python_version < \"3.8\" in /Users/hiru/opt/anaconda3/lib/python3.7/site-packages (from spacy<4.0.0,>=3.0.0->spacy-universal-sentence-encoder) (0.23)\n",
      "Collecting google-auth<2,>=1.6.3 (from tensorboard~=2.4->tensorflow<3.0.0,>=2.4.0->spacy-universal-sentence-encoder)\n",
      "\u001b[?25l  Downloading https://files.pythonhosted.org/packages/6c/13/c5ed31377b620158a487c5851343d3a59065954f83a34223c9b9087f7b8d/google_auth-1.28.1-py2.py3-none-any.whl (136kB)\n",
      "\u001b[K     |████████████████████████████████| 143kB 8.1MB/s eta 0:00:01\n",
      "\u001b[?25hCollecting markdown>=2.6.8 (from tensorboard~=2.4->tensorflow<3.0.0,>=2.4.0->spacy-universal-sentence-encoder)\n",
      "\u001b[?25l  Downloading https://files.pythonhosted.org/packages/6e/33/1ae0f71395e618d6140fbbc9587cc3156591f748226075e0f7d6f9176522/Markdown-3.3.4-py3-none-any.whl (97kB)\n",
      "\u001b[K     |████████████████████████████████| 102kB 7.9MB/s ta 0:00:011\n",
      "\u001b[?25hRequirement already satisfied: werkzeug>=0.11.15 in /Users/hiru/opt/anaconda3/lib/python3.7/site-packages (from tensorboard~=2.4->tensorflow<3.0.0,>=2.4.0->spacy-universal-sentence-encoder) (0.16.0)\n",
      "Collecting google-auth-oauthlib<0.5,>=0.4.1 (from tensorboard~=2.4->tensorflow<3.0.0,>=2.4.0->spacy-universal-sentence-encoder)\n",
      "  Downloading https://files.pythonhosted.org/packages/9d/d3/7541e89f1fc456eef157224f597a8bba22589db6369a03eaba68c11f07a0/google_auth_oauthlib-0.4.4-py2.py3-none-any.whl\n",
      "Collecting tensorboard-plugin-wit>=1.6.0 (from tensorboard~=2.4->tensorflow<3.0.0,>=2.4.0->spacy-universal-sentence-encoder)\n",
      "\u001b[?25l  Downloading https://files.pythonhosted.org/packages/1a/c1/499e600ba0c618b451cd9c425ae1c177249940a2086316552fee7d86c954/tensorboard_plugin_wit-1.8.0-py3-none-any.whl (781kB)\n",
      "\u001b[K     |████████████████████████████████| 788kB 8.5MB/s eta 0:00:01\n",
      "\u001b[?25hRequirement already satisfied: pyparsing>=2.0.2 in /Users/hiru/opt/anaconda3/lib/python3.7/site-packages (from packaging>=20.0->spacy<4.0.0,>=3.0.0->spacy-universal-sentence-encoder) (2.4.2)\n",
      "Requirement already satisfied: smart-open<4.0.0,>=2.2.0 in /Users/hiru/opt/anaconda3/lib/python3.7/site-packages (from pathy->spacy<4.0.0,>=3.0.0->spacy-universal-sentence-encoder) (3.0.0)\n",
      "Requirement already satisfied: chardet<3.1.0,>=3.0.2 in /Users/hiru/opt/anaconda3/lib/python3.7/site-packages (from requests<3.0.0,>=2.13.0->spacy<4.0.0,>=3.0.0->spacy-universal-sentence-encoder) (3.0.4)\n",
      "Requirement already satisfied: idna<2.9,>=2.5 in /Users/hiru/opt/anaconda3/lib/python3.7/site-packages (from requests<3.0.0,>=2.13.0->spacy<4.0.0,>=3.0.0->spacy-universal-sentence-encoder) (2.8)\n",
      "Requirement already satisfied: certifi>=2017.4.17 in /Users/hiru/opt/anaconda3/lib/python3.7/site-packages (from requests<3.0.0,>=2.13.0->spacy<4.0.0,>=3.0.0->spacy-universal-sentence-encoder) (2019.9.11)\n",
      "Requirement already satisfied: urllib3!=1.25.0,!=1.25.1,<1.26,>=1.21.1 in /Users/hiru/opt/anaconda3/lib/python3.7/site-packages (from requests<3.0.0,>=2.13.0->spacy<4.0.0,>=3.0.0->spacy-universal-sentence-encoder) (1.24.2)\n",
      "Requirement already satisfied: MarkupSafe>=0.23 in /Users/hiru/opt/anaconda3/lib/python3.7/site-packages (from jinja2->spacy<4.0.0,>=3.0.0->spacy-universal-sentence-encoder) (1.1.1)\n",
      "Requirement already satisfied: click<7.2.0,>=7.1.1 in /Users/hiru/opt/anaconda3/lib/python3.7/site-packages (from typer<0.4.0,>=0.3.0->spacy<4.0.0,>=3.0.0->spacy-universal-sentence-encoder) (7.1.2)\n",
      "Requirement already satisfied: zipp>=0.5 in /Users/hiru/opt/anaconda3/lib/python3.7/site-packages (from importlib-metadata>=0.20; python_version < \"3.8\"->spacy<4.0.0,>=3.0.0->spacy-universal-sentence-encoder) (0.6.0)\n",
      "Collecting pyasn1-modules>=0.2.1 (from google-auth<2,>=1.6.3->tensorboard~=2.4->tensorflow<3.0.0,>=2.4.0->spacy-universal-sentence-encoder)\n",
      "\u001b[?25l  Downloading https://files.pythonhosted.org/packages/95/de/214830a981892a3e286c3794f41ae67a4495df1108c3da8a9f62159b9a9d/pyasn1_modules-0.2.8-py2.py3-none-any.whl (155kB)\n",
      "\u001b[K     |████████████████████████████████| 163kB 8.0MB/s eta 0:00:01\n",
      "\u001b[?25hCollecting rsa<5,>=3.1.4; python_version >= \"3.6\" (from google-auth<2,>=1.6.3->tensorboard~=2.4->tensorflow<3.0.0,>=2.4.0->spacy-universal-sentence-encoder)\n",
      "  Downloading https://files.pythonhosted.org/packages/e9/93/0c0f002031f18b53af7a6166103c02b9c0667be528944137cc954ec921b3/rsa-4.7.2-py3-none-any.whl\n",
      "Collecting cachetools<5.0,>=2.0.0 (from google-auth<2,>=1.6.3->tensorboard~=2.4->tensorflow<3.0.0,>=2.4.0->spacy-universal-sentence-encoder)\n",
      "  Downloading https://files.pythonhosted.org/packages/bb/72/8df2e0dc991f1a1d2c6869404e7622e8ee50d80bff357dbb57c3df70305b/cachetools-4.2.1-py3-none-any.whl\n",
      "Requirement already satisfied: requests-oauthlib>=0.7.0 in /Users/hiru/opt/anaconda3/lib/python3.7/site-packages (from google-auth-oauthlib<0.5,>=0.4.1->tensorboard~=2.4->tensorflow<3.0.0,>=2.4.0->spacy-universal-sentence-encoder) (1.3.0)\n",
      "Requirement already satisfied: more-itertools in /Users/hiru/opt/anaconda3/lib/python3.7/site-packages (from zipp>=0.5->importlib-metadata>=0.20; python_version < \"3.8\"->spacy<4.0.0,>=3.0.0->spacy-universal-sentence-encoder) (7.2.0)\n",
      "Collecting pyasn1<0.5.0,>=0.4.6 (from pyasn1-modules>=0.2.1->google-auth<2,>=1.6.3->tensorboard~=2.4->tensorflow<3.0.0,>=2.4.0->spacy-universal-sentence-encoder)\n",
      "\u001b[?25l  Downloading https://files.pythonhosted.org/packages/62/1e/a94a8d635fa3ce4cfc7f506003548d0a2447ae76fd5ca53932970fe3053f/pyasn1-0.4.8-py2.py3-none-any.whl (77kB)\n",
      "\u001b[K     |████████████████████████████████| 81kB 6.7MB/s eta 0:00:01\n",
      "\u001b[?25hRequirement already satisfied: oauthlib>=3.0.0 in /Users/hiru/opt/anaconda3/lib/python3.7/site-packages (from requests-oauthlib>=0.7.0->google-auth-oauthlib<0.5,>=0.4.1->tensorboard~=2.4->tensorflow<3.0.0,>=2.4.0->spacy-universal-sentence-encoder) (3.1.0)\n",
      "Building wheels for collected packages: spacy-universal-sentence-encoder, wrapt\n",
      "  Building wheel for spacy-universal-sentence-encoder (setup.py) ... \u001b[?25ldone\n",
      "\u001b[?25h  Created wheel for spacy-universal-sentence-encoder: filename=spacy_universal_sentence_encoder-0.4.1-cp37-none-any.whl size=11580 sha256=c3625ab3994283f0e61131a229e0ab1b349a4367d34f8f89e237ec0c504a1778\n",
      "  Stored in directory: /Users/hiru/Library/Caches/pip/wheels/d2/55/6a/d6d252085d0a67d94a1be862599d8d43a751c8abc2d64109b6\n",
      "  Building wheel for wrapt (setup.py) ... \u001b[?25ldone\n",
      "\u001b[?25h  Created wheel for wrapt: filename=wrapt-1.12.1-cp37-cp37m-macosx_10_9_x86_64.whl size=32517 sha256=dc9ff899393fc59f52c3c04d03b876dbec1dac9d9f85b14e5cc0cb4740e994f7\n",
      "  Stored in directory: /Users/hiru/Library/Caches/pip/wheels/b1/c2/ed/d62208260edbd3fa7156545c00ef966f45f2063d0a84f8208a\n",
      "Successfully built spacy-universal-sentence-encoder wrapt\n",
      "\u001b[31mERROR: astroid 2.3.1 requires typed-ast<1.5,>=1.4.0; implementation_name == \"cpython\" and python_version < \"3.8\", which is not installed.\u001b[0m\n",
      "\u001b[31mERROR: astroid 2.3.1 has requirement six==1.12, but you'll have six 1.15.0 which is incompatible.\u001b[0m\n",
      "\u001b[31mERROR: astroid 2.3.1 has requirement wrapt==1.11.*, but you'll have wrapt 1.12.1 which is incompatible.\u001b[0m\n",
      "Installing collected packages: gast, six, grpcio, absl-py, numpy, opt-einsum, wrapt, protobuf, wheel, astunparse, pyasn1, pyasn1-modules, rsa, cachetools, google-auth, markdown, google-auth-oauthlib, tensorboard-plugin-wit, tensorboard, tensorflow-estimator, google-pasta, h5py, flatbuffers, keras-preprocessing, tensorflow, tensorflow-hub, spacy-universal-sentence-encoder\n",
      "  Found existing installation: six 1.12.0\n",
      "    Uninstalling six-1.12.0:\n",
      "      Successfully uninstalled six-1.12.0\n",
      "  Found existing installation: numpy 1.17.2\n",
      "    Uninstalling numpy-1.17.2:\n",
      "      Successfully uninstalled numpy-1.17.2\n",
      "  Found existing installation: wrapt 1.11.2\n",
      "    Uninstalling wrapt-1.11.2:\n",
      "      Successfully uninstalled wrapt-1.11.2\n",
      "  Found existing installation: wheel 0.33.6\n",
      "    Uninstalling wheel-0.33.6:\n",
      "      Successfully uninstalled wheel-0.33.6\n",
      "  Found existing installation: h5py 2.9.0\n",
      "    Uninstalling h5py-2.9.0:\n",
      "      Successfully uninstalled h5py-2.9.0\n",
      "Successfully installed absl-py-0.12.0 astunparse-1.6.3 cachetools-4.2.1 flatbuffers-1.12 gast-0.3.3 google-auth-1.28.1 google-auth-oauthlib-0.4.4 google-pasta-0.2.0 grpcio-1.32.0 h5py-2.10.0 keras-preprocessing-1.1.2 markdown-3.3.4 numpy-1.19.5 opt-einsum-3.3.0 protobuf-3.15.8 pyasn1-0.4.8 pyasn1-modules-0.2.8 rsa-4.7.2 six-1.15.0 spacy-universal-sentence-encoder-0.4.1 tensorboard-2.4.1 tensorboard-plugin-wit-1.8.0 tensorflow-2.4.1 tensorflow-estimator-2.4.0 tensorflow-hub-0.11.0 wheel-0.36.2 wrapt-1.12.1\n",
      "Collecting https://github.com/MartinoMensio/spacy-universal-sentence-encoder/releases/download/v0.4.1/en_use_md-0.4.1.tar.gz#en_use_md-0.4.1\n",
      "  Downloading https://github.com/MartinoMensio/spacy-universal-sentence-encoder/releases/download/v0.4.1/en_use_md-0.4.1.tar.gz\n",
      "Requirement already satisfied: spacy<3.1.0,>=3.0.3 in /Users/hiru/opt/anaconda3/lib/python3.7/site-packages (from en-use-md==0.4.1) (3.0.3)\n",
      "Requirement already satisfied: spacy_universal_sentence_encoder>=0.4.1 in /Users/hiru/opt/anaconda3/lib/python3.7/site-packages (from en-use-md==0.4.1) (0.4.1)\n",
      "Requirement already satisfied: thinc<8.1.0,>=8.0.0 in /Users/hiru/opt/anaconda3/lib/python3.7/site-packages (from spacy<3.1.0,>=3.0.3->en-use-md==0.4.1) (8.0.1)\n",
      "Requirement already satisfied: blis<0.8.0,>=0.4.0 in /Users/hiru/opt/anaconda3/lib/python3.7/site-packages (from spacy<3.1.0,>=3.0.3->en-use-md==0.4.1) (0.7.4)\n",
      "Requirement already satisfied: requests<3.0.0,>=2.13.0 in /Users/hiru/opt/anaconda3/lib/python3.7/site-packages (from spacy<3.1.0,>=3.0.3->en-use-md==0.4.1) (2.22.0)\n",
      "Requirement already satisfied: setuptools in /Users/hiru/opt/anaconda3/lib/python3.7/site-packages (from spacy<3.1.0,>=3.0.3->en-use-md==0.4.1) (41.4.0)\n",
      "Requirement already satisfied: importlib-metadata>=0.20; python_version < \"3.8\" in /Users/hiru/opt/anaconda3/lib/python3.7/site-packages (from spacy<3.1.0,>=3.0.3->en-use-md==0.4.1) (0.23)\n",
      "Requirement already satisfied: murmurhash<1.1.0,>=0.28.0 in /Users/hiru/opt/anaconda3/lib/python3.7/site-packages (from spacy<3.1.0,>=3.0.3->en-use-md==0.4.1) (1.0.5)\n",
      "Requirement already satisfied: packaging>=20.0 in /Users/hiru/opt/anaconda3/lib/python3.7/site-packages (from spacy<3.1.0,>=3.0.3->en-use-md==0.4.1) (20.9)\n",
      "Requirement already satisfied: jinja2 in /Users/hiru/opt/anaconda3/lib/python3.7/site-packages (from spacy<3.1.0,>=3.0.3->en-use-md==0.4.1) (2.10.3)\n",
      "Requirement already satisfied: preshed<3.1.0,>=3.0.2 in /Users/hiru/opt/anaconda3/lib/python3.7/site-packages (from spacy<3.1.0,>=3.0.3->en-use-md==0.4.1) (3.0.5)\n",
      "Requirement already satisfied: cymem<2.1.0,>=2.0.2 in /Users/hiru/opt/anaconda3/lib/python3.7/site-packages (from spacy<3.1.0,>=3.0.3->en-use-md==0.4.1) (2.0.5)\n",
      "Requirement already satisfied: typing-extensions>=3.7.4; python_version < \"3.8\" in /Users/hiru/opt/anaconda3/lib/python3.7/site-packages (from spacy<3.1.0,>=3.0.3->en-use-md==0.4.1) (3.7.4.3)\n",
      "Requirement already satisfied: srsly<3.0.0,>=2.4.0 in /Users/hiru/opt/anaconda3/lib/python3.7/site-packages (from spacy<3.1.0,>=3.0.3->en-use-md==0.4.1) (2.4.0)\n",
      "Requirement already satisfied: catalogue<2.1.0,>=2.0.1 in /Users/hiru/opt/anaconda3/lib/python3.7/site-packages (from spacy<3.1.0,>=3.0.3->en-use-md==0.4.1) (2.0.1)\n",
      "Requirement already satisfied: typer<0.4.0,>=0.3.0 in /Users/hiru/opt/anaconda3/lib/python3.7/site-packages (from spacy<3.1.0,>=3.0.3->en-use-md==0.4.1) (0.3.2)\n",
      "Requirement already satisfied: spacy-legacy<3.1.0,>=3.0.0 in /Users/hiru/opt/anaconda3/lib/python3.7/site-packages (from spacy<3.1.0,>=3.0.3->en-use-md==0.4.1) (3.0.1)\n",
      "Requirement already satisfied: tqdm<5.0.0,>=4.38.0 in /Users/hiru/opt/anaconda3/lib/python3.7/site-packages (from spacy<3.1.0,>=3.0.3->en-use-md==0.4.1) (4.58.0)\n",
      "Requirement already satisfied: numpy>=1.15.0 in /Users/hiru/opt/anaconda3/lib/python3.7/site-packages (from spacy<3.1.0,>=3.0.3->en-use-md==0.4.1) (1.19.5)\n",
      "Requirement already satisfied: pydantic<1.8.0,>=1.7.1 in /Users/hiru/opt/anaconda3/lib/python3.7/site-packages (from spacy<3.1.0,>=3.0.3->en-use-md==0.4.1) (1.7.3)\n",
      "Requirement already satisfied: pathy in /Users/hiru/opt/anaconda3/lib/python3.7/site-packages (from spacy<3.1.0,>=3.0.3->en-use-md==0.4.1) (0.4.0)\n",
      "Requirement already satisfied: wasabi<1.1.0,>=0.8.1 in /Users/hiru/opt/anaconda3/lib/python3.7/site-packages (from spacy<3.1.0,>=3.0.3->en-use-md==0.4.1) (0.8.2)\n",
      "Requirement already satisfied: tensorflow-hub in /Users/hiru/opt/anaconda3/lib/python3.7/site-packages (from spacy_universal_sentence_encoder>=0.4.1->en-use-md==0.4.1) (0.11.0)\n",
      "Requirement already satisfied: tensorflow<3.0.0,>=2.4.0 in /Users/hiru/opt/anaconda3/lib/python3.7/site-packages (from spacy_universal_sentence_encoder>=0.4.1->en-use-md==0.4.1) (2.4.1)\n",
      "Requirement already satisfied: urllib3!=1.25.0,!=1.25.1,<1.26,>=1.21.1 in /Users/hiru/opt/anaconda3/lib/python3.7/site-packages (from requests<3.0.0,>=2.13.0->spacy<3.1.0,>=3.0.3->en-use-md==0.4.1) (1.24.2)\n",
      "Requirement already satisfied: chardet<3.1.0,>=3.0.2 in /Users/hiru/opt/anaconda3/lib/python3.7/site-packages (from requests<3.0.0,>=2.13.0->spacy<3.1.0,>=3.0.3->en-use-md==0.4.1) (3.0.4)\n",
      "Requirement already satisfied: idna<2.9,>=2.5 in /Users/hiru/opt/anaconda3/lib/python3.7/site-packages (from requests<3.0.0,>=2.13.0->spacy<3.1.0,>=3.0.3->en-use-md==0.4.1) (2.8)\n",
      "Requirement already satisfied: certifi>=2017.4.17 in /Users/hiru/opt/anaconda3/lib/python3.7/site-packages (from requests<3.0.0,>=2.13.0->spacy<3.1.0,>=3.0.3->en-use-md==0.4.1) (2019.9.11)\n",
      "Requirement already satisfied: zipp>=0.5 in /Users/hiru/opt/anaconda3/lib/python3.7/site-packages (from importlib-metadata>=0.20; python_version < \"3.8\"->spacy<3.1.0,>=3.0.3->en-use-md==0.4.1) (0.6.0)\n",
      "Requirement already satisfied: pyparsing>=2.0.2 in /Users/hiru/opt/anaconda3/lib/python3.7/site-packages (from packaging>=20.0->spacy<3.1.0,>=3.0.3->en-use-md==0.4.1) (2.4.2)\n",
      "Requirement already satisfied: MarkupSafe>=0.23 in /Users/hiru/opt/anaconda3/lib/python3.7/site-packages (from jinja2->spacy<3.1.0,>=3.0.3->en-use-md==0.4.1) (1.1.1)\n",
      "Requirement already satisfied: click<7.2.0,>=7.1.1 in /Users/hiru/opt/anaconda3/lib/python3.7/site-packages (from typer<0.4.0,>=0.3.0->spacy<3.1.0,>=3.0.3->en-use-md==0.4.1) (7.1.2)\n",
      "Requirement already satisfied: smart-open<4.0.0,>=2.2.0 in /Users/hiru/opt/anaconda3/lib/python3.7/site-packages (from pathy->spacy<3.1.0,>=3.0.3->en-use-md==0.4.1) (3.0.0)\n",
      "Requirement already satisfied: protobuf>=3.8.0 in /Users/hiru/opt/anaconda3/lib/python3.7/site-packages (from tensorflow-hub->spacy_universal_sentence_encoder>=0.4.1->en-use-md==0.4.1) (3.15.8)\n",
      "Requirement already satisfied: flatbuffers~=1.12.0 in /Users/hiru/opt/anaconda3/lib/python3.7/site-packages (from tensorflow<3.0.0,>=2.4.0->spacy_universal_sentence_encoder>=0.4.1->en-use-md==0.4.1) (1.12)\n",
      "Requirement already satisfied: gast==0.3.3 in /Users/hiru/opt/anaconda3/lib/python3.7/site-packages (from tensorflow<3.0.0,>=2.4.0->spacy_universal_sentence_encoder>=0.4.1->en-use-md==0.4.1) (0.3.3)\n",
      "Requirement already satisfied: opt-einsum~=3.3.0 in /Users/hiru/opt/anaconda3/lib/python3.7/site-packages (from tensorflow<3.0.0,>=2.4.0->spacy_universal_sentence_encoder>=0.4.1->en-use-md==0.4.1) (3.3.0)\n",
      "Requirement already satisfied: keras-preprocessing~=1.1.2 in /Users/hiru/opt/anaconda3/lib/python3.7/site-packages (from tensorflow<3.0.0,>=2.4.0->spacy_universal_sentence_encoder>=0.4.1->en-use-md==0.4.1) (1.1.2)\n",
      "Requirement already satisfied: wrapt~=1.12.1 in /Users/hiru/opt/anaconda3/lib/python3.7/site-packages (from tensorflow<3.0.0,>=2.4.0->spacy_universal_sentence_encoder>=0.4.1->en-use-md==0.4.1) (1.12.1)\n",
      "Requirement already satisfied: tensorboard~=2.4 in /Users/hiru/opt/anaconda3/lib/python3.7/site-packages (from tensorflow<3.0.0,>=2.4.0->spacy_universal_sentence_encoder>=0.4.1->en-use-md==0.4.1) (2.4.1)\n",
      "Requirement already satisfied: google-pasta~=0.2 in /Users/hiru/opt/anaconda3/lib/python3.7/site-packages (from tensorflow<3.0.0,>=2.4.0->spacy_universal_sentence_encoder>=0.4.1->en-use-md==0.4.1) (0.2.0)\n",
      "Requirement already satisfied: six~=1.15.0 in /Users/hiru/opt/anaconda3/lib/python3.7/site-packages (from tensorflow<3.0.0,>=2.4.0->spacy_universal_sentence_encoder>=0.4.1->en-use-md==0.4.1) (1.15.0)\n",
      "Requirement already satisfied: tensorflow-estimator<2.5.0,>=2.4.0 in /Users/hiru/opt/anaconda3/lib/python3.7/site-packages (from tensorflow<3.0.0,>=2.4.0->spacy_universal_sentence_encoder>=0.4.1->en-use-md==0.4.1) (2.4.0)\n",
      "Requirement already satisfied: grpcio~=1.32.0 in /Users/hiru/opt/anaconda3/lib/python3.7/site-packages (from tensorflow<3.0.0,>=2.4.0->spacy_universal_sentence_encoder>=0.4.1->en-use-md==0.4.1) (1.32.0)\n",
      "Requirement already satisfied: astunparse~=1.6.3 in /Users/hiru/opt/anaconda3/lib/python3.7/site-packages (from tensorflow<3.0.0,>=2.4.0->spacy_universal_sentence_encoder>=0.4.1->en-use-md==0.4.1) (1.6.3)\n",
      "Requirement already satisfied: wheel~=0.35 in /Users/hiru/opt/anaconda3/lib/python3.7/site-packages (from tensorflow<3.0.0,>=2.4.0->spacy_universal_sentence_encoder>=0.4.1->en-use-md==0.4.1) (0.36.2)\n",
      "Requirement already satisfied: h5py~=2.10.0 in /Users/hiru/opt/anaconda3/lib/python3.7/site-packages (from tensorflow<3.0.0,>=2.4.0->spacy_universal_sentence_encoder>=0.4.1->en-use-md==0.4.1) (2.10.0)\n",
      "Requirement already satisfied: termcolor~=1.1.0 in /Users/hiru/opt/anaconda3/lib/python3.7/site-packages (from tensorflow<3.0.0,>=2.4.0->spacy_universal_sentence_encoder>=0.4.1->en-use-md==0.4.1) (1.1.0)\n",
      "Requirement already satisfied: absl-py~=0.10 in /Users/hiru/opt/anaconda3/lib/python3.7/site-packages (from tensorflow<3.0.0,>=2.4.0->spacy_universal_sentence_encoder>=0.4.1->en-use-md==0.4.1) (0.12.0)\n",
      "Requirement already satisfied: more-itertools in /Users/hiru/opt/anaconda3/lib/python3.7/site-packages (from zipp>=0.5->importlib-metadata>=0.20; python_version < \"3.8\"->spacy<3.1.0,>=3.0.3->en-use-md==0.4.1) (7.2.0)\n",
      "Requirement already satisfied: google-auth-oauthlib<0.5,>=0.4.1 in /Users/hiru/opt/anaconda3/lib/python3.7/site-packages (from tensorboard~=2.4->tensorflow<3.0.0,>=2.4.0->spacy_universal_sentence_encoder>=0.4.1->en-use-md==0.4.1) (0.4.4)\n",
      "Requirement already satisfied: werkzeug>=0.11.15 in /Users/hiru/opt/anaconda3/lib/python3.7/site-packages (from tensorboard~=2.4->tensorflow<3.0.0,>=2.4.0->spacy_universal_sentence_encoder>=0.4.1->en-use-md==0.4.1) (0.16.0)\n",
      "Requirement already satisfied: tensorboard-plugin-wit>=1.6.0 in /Users/hiru/opt/anaconda3/lib/python3.7/site-packages (from tensorboard~=2.4->tensorflow<3.0.0,>=2.4.0->spacy_universal_sentence_encoder>=0.4.1->en-use-md==0.4.1) (1.8.0)\n",
      "Requirement already satisfied: google-auth<2,>=1.6.3 in /Users/hiru/opt/anaconda3/lib/python3.7/site-packages (from tensorboard~=2.4->tensorflow<3.0.0,>=2.4.0->spacy_universal_sentence_encoder>=0.4.1->en-use-md==0.4.1) (1.28.1)\n",
      "Requirement already satisfied: markdown>=2.6.8 in /Users/hiru/opt/anaconda3/lib/python3.7/site-packages (from tensorboard~=2.4->tensorflow<3.0.0,>=2.4.0->spacy_universal_sentence_encoder>=0.4.1->en-use-md==0.4.1) (3.3.4)\n",
      "Requirement already satisfied: requests-oauthlib>=0.7.0 in /Users/hiru/opt/anaconda3/lib/python3.7/site-packages (from google-auth-oauthlib<0.5,>=0.4.1->tensorboard~=2.4->tensorflow<3.0.0,>=2.4.0->spacy_universal_sentence_encoder>=0.4.1->en-use-md==0.4.1) (1.3.0)\n",
      "Requirement already satisfied: cachetools<5.0,>=2.0.0 in /Users/hiru/opt/anaconda3/lib/python3.7/site-packages (from google-auth<2,>=1.6.3->tensorboard~=2.4->tensorflow<3.0.0,>=2.4.0->spacy_universal_sentence_encoder>=0.4.1->en-use-md==0.4.1) (4.2.1)\n",
      "Requirement already satisfied: pyasn1-modules>=0.2.1 in /Users/hiru/opt/anaconda3/lib/python3.7/site-packages (from google-auth<2,>=1.6.3->tensorboard~=2.4->tensorflow<3.0.0,>=2.4.0->spacy_universal_sentence_encoder>=0.4.1->en-use-md==0.4.1) (0.2.8)\n",
      "Requirement already satisfied: rsa<5,>=3.1.4; python_version >= \"3.6\" in /Users/hiru/opt/anaconda3/lib/python3.7/site-packages (from google-auth<2,>=1.6.3->tensorboard~=2.4->tensorflow<3.0.0,>=2.4.0->spacy_universal_sentence_encoder>=0.4.1->en-use-md==0.4.1) (4.7.2)\n",
      "Requirement already satisfied: oauthlib>=3.0.0 in /Users/hiru/opt/anaconda3/lib/python3.7/site-packages (from requests-oauthlib>=0.7.0->google-auth-oauthlib<0.5,>=0.4.1->tensorboard~=2.4->tensorflow<3.0.0,>=2.4.0->spacy_universal_sentence_encoder>=0.4.1->en-use-md==0.4.1) (3.1.0)\n",
      "Requirement already satisfied: pyasn1<0.5.0,>=0.4.6 in /Users/hiru/opt/anaconda3/lib/python3.7/site-packages (from pyasn1-modules>=0.2.1->google-auth<2,>=1.6.3->tensorboard~=2.4->tensorflow<3.0.0,>=2.4.0->spacy_universal_sentence_encoder>=0.4.1->en-use-md==0.4.1) (0.4.8)\n",
      "Building wheels for collected packages: en-use-md\n",
      "  Building wheel for en-use-md (setup.py) ... \u001b[?25ldone\n",
      "\u001b[?25h  Created wheel for en-use-md: filename=en_use_md-0.4.1-cp37-none-any.whl size=24361 sha256=9c5e0d90c2e8089334397316c7a4314533f573b4877dda008812a02fcea2c3f0\n",
      "  Stored in directory: /Users/hiru/Library/Caches/pip/wheels/7e/8d/90/559c86ff1398a564c0423be38fdbcd9a7e57d880c549ecb7d9\n",
      "Successfully built en-use-md\n",
      "Installing collected packages: en-use-md\n",
      "Successfully installed en-use-md-0.4.1\n"
     ]
    }
   ],
   "source": [
    "!pip install spacy-universal-sentence-encoder\n",
    "!pip install https://github.com/MartinoMensio/spacy-universal-sentence-encoder/releases/download/v0.4.1/en_use_md-0.4.1.tar.gz#en_use_md-0.4.1"
   ]
  },
  {
   "cell_type": "code",
   "execution_count": 63,
   "metadata": {},
   "outputs": [],
   "source": [
    "from json_to_df import json_to_df\n",
    "import pandas as pd\n",
    "import numpy as np\n",
    "import spacy\n",
    "\n",
    "import os\n",
    "\n",
    "from sklearn.linear_model import LogisticRegression\n",
    "from sklearn.metrics import accuracy_score"
   ]
  },
  {
   "cell_type": "markdown",
   "metadata": {},
   "source": [
    "# 1 - Data Preprocessing"
   ]
  },
  {
   "cell_type": "code",
   "execution_count": 64,
   "metadata": {},
   "outputs": [],
   "source": [
    "# df_paak = json_to_df('Lyrics_Anderson.Paak.json')\n",
    "# df_abba = json_to_df('Lyrics_ABBA.json')\n",
    "dfs = []\n",
    "for file in os.listdir(\"./\"):\n",
    "    if file.endswith(\".json\"):\n",
    "        fname = os.path.join('./', file)\n",
    "        dfs.append(json_to_df(fname))\n",
    "\n",
    "df = pd.concat(dfs)"
   ]
  },
  {
   "cell_type": "code",
   "execution_count": 65,
   "metadata": {},
   "outputs": [
    {
     "data": {
      "text/html": [
       "<div>\n",
       "<style scoped>\n",
       "    .dataframe tbody tr th:only-of-type {\n",
       "        vertical-align: middle;\n",
       "    }\n",
       "\n",
       "    .dataframe tbody tr th {\n",
       "        vertical-align: top;\n",
       "    }\n",
       "\n",
       "    .dataframe thead th {\n",
       "        text-align: right;\n",
       "    }\n",
       "</style>\n",
       "<table border=\"1\" class=\"dataframe\">\n",
       "  <thead>\n",
       "    <tr style=\"text-align: right;\">\n",
       "      <th></th>\n",
       "      <th>song title</th>\n",
       "      <th>lyrics</th>\n",
       "      <th>artist</th>\n",
       "    </tr>\n",
       "  </thead>\n",
       "  <tbody>\n",
       "    <tr>\n",
       "      <td>4</td>\n",
       "      <td>Something</td>\n",
       "      <td>[Verse 1]\\nSomething in the way she moves\\nAtt...</td>\n",
       "      <td>The Beatles</td>\n",
       "    </tr>\n",
       "    <tr>\n",
       "      <td>26</td>\n",
       "      <td>Let’s Get Married</td>\n",
       "      <td>Sitting here\\nWasting my time for you\\nAnd I'm...</td>\n",
       "      <td>Al Green</td>\n",
       "    </tr>\n",
       "    <tr>\n",
       "      <td>17</td>\n",
       "      <td>Just a Little Bit</td>\n",
       "      <td>I don't want much, I just want a little bit\\nN...</td>\n",
       "      <td>Etta James</td>\n",
       "    </tr>\n",
       "    <tr>\n",
       "      <td>38</td>\n",
       "      <td>Bong Bong</td>\n",
       "      <td>[Intro - RZA + U-God]]\\nBong bong, bong bong, ...</td>\n",
       "      <td>RZA</td>\n",
       "    </tr>\n",
       "    <tr>\n",
       "      <td>14</td>\n",
       "      <td>Strawberry Fields Forever</td>\n",
       "      <td>[Chorus]\\nLet me take you down, 'cause I'm goi...</td>\n",
       "      <td>The Beatles</td>\n",
       "    </tr>\n",
       "  </tbody>\n",
       "</table>\n",
       "</div>"
      ],
      "text/plain": [
       "                   song title                                             lyrics       artist\n",
       "4                   Something  [Verse 1]\\nSomething in the way she moves\\nAtt...  The Beatles\n",
       "26          Let’s Get Married  Sitting here\\nWasting my time for you\\nAnd I'm...     Al Green\n",
       "17          Just a Little Bit  I don't want much, I just want a little bit\\nN...   Etta James\n",
       "38                  Bong Bong  [Intro - RZA + U-God]]\\nBong bong, bong bong, ...          RZA\n",
       "14  Strawberry Fields Forever  [Chorus]\\nLet me take you down, 'cause I'm goi...  The Beatles"
      ]
     },
     "execution_count": 65,
     "metadata": {},
     "output_type": "execute_result"
    }
   ],
   "source": [
    "df.sample(5)"
   ]
  },
  {
   "cell_type": "code",
   "execution_count": 73,
   "metadata": {},
   "outputs": [],
   "source": [
    "df.to_csv('all_songs.csv',index=False)"
   ]
  },
  {
   "cell_type": "markdown",
   "metadata": {},
   "source": [
    "# 2 - USE and Model"
   ]
  },
  {
   "cell_type": "code",
   "execution_count": 66,
   "metadata": {},
   "outputs": [],
   "source": [
    "nlp = spacy.load('en_use_md')"
   ]
  },
  {
   "cell_type": "code",
   "execution_count": 67,
   "metadata": {},
   "outputs": [
    {
     "name": "stdout",
     "output_type": "stream",
     "text": [
      "(625, 512) (625,)\n"
     ]
    }
   ],
   "source": [
    "# create train_xs and train_ys\n",
    "ys = df.artist\n",
    "\n",
    "Xs = np.zeros((len(df), 512))\n",
    "lyrics = df['lyrics']\n",
    "for i, song in enumerate(lyrics):\n",
    "    enc = nlp(song).vector\n",
    "    Xs[i,:] = enc\n",
    "\n",
    "print(Xs.shape, ys.shape)"
   ]
  },
  {
   "cell_type": "code",
   "execution_count": 68,
   "metadata": {},
   "outputs": [
    {
     "name": "stdout",
     "output_type": "stream",
     "text": [
      "(509, 512) (116,) (509,) (116,)\n"
     ]
    }
   ],
   "source": [
    "# split train and test\n",
    "msk = np.random.rand(len(df)) < 0.8\n",
    "\n",
    "train_xs = Xs[msk,:]\n",
    "test_xs = Xs[~msk, :]\n",
    "\n",
    "train_ys = ys[msk]\n",
    "test_ys = ys[~msk]\n",
    "\n",
    "print(train_xs.shape, test_ys.shape, train_ys.shape, test_ys.shape)"
   ]
  },
  {
   "cell_type": "code",
   "execution_count": 71,
   "metadata": {},
   "outputs": [
    {
     "name": "stderr",
     "output_type": "stream",
     "text": [
      "/Users/hiru/opt/anaconda3/lib/python3.7/site-packages/sklearn/linear_model/logistic.py:432: FutureWarning: Default solver will be changed to 'lbfgs' in 0.22. Specify a solver to silence this warning.\n",
      "  FutureWarning)\n",
      "/Users/hiru/opt/anaconda3/lib/python3.7/site-packages/sklearn/linear_model/logistic.py:469: FutureWarning: Default multi_class will be changed to 'auto' in 0.22. Specify the multi_class option to silence this warning.\n",
      "  \"this warning.\", FutureWarning)\n"
     ]
    },
    {
     "data": {
      "text/plain": [
       "LogisticRegression(C=1.0, class_weight=None, dual=False, fit_intercept=True,\n",
       "                   intercept_scaling=1, l1_ratio=None, max_iter=100,\n",
       "                   multi_class='warn', n_jobs=None, penalty='l2',\n",
       "                   random_state=None, solver='warn', tol=0.0001, verbose=0,\n",
       "                   warm_start=False)"
      ]
     },
     "execution_count": 71,
     "metadata": {},
     "output_type": "execute_result"
    }
   ],
   "source": [
    "model = LogisticRegression()\n",
    "model.fit(train_xs, train_ys)"
   ]
  },
  {
   "cell_type": "code",
   "execution_count": 72,
   "metadata": {},
   "outputs": [
    {
     "name": "stdout",
     "output_type": "stream",
     "text": [
      "training accuracy: 0.7819\n",
      "testing accuracy: 0.5\n"
     ]
    }
   ],
   "source": [
    "# in sample acc\n",
    "train_y_pred = model.predict(train_xs)\n",
    "print('training accuracy: {:.4}'.format(accuracy_score(train_ys, train_y_pred)))\n",
    "\n",
    "test_y_pred = model.predict(test_xs)\n",
    "print('testing accuracy: {:.4}'.format(accuracy_score(test_ys, test_y_pred)))"
   ]
  },
  {
   "cell_type": "markdown",
   "metadata": {},
   "source": []
  }
 ],
 "metadata": {
  "kernelspec": {
   "display_name": "Python 3",
   "language": "python",
   "name": "python3"
  },
  "language_info": {
   "codemirror_mode": {
    "name": "ipython",
    "version": 3
   },
   "file_extension": ".py",
   "mimetype": "text/x-python",
   "name": "python",
   "nbconvert_exporter": "python",
   "pygments_lexer": "ipython3",
   "version": "3.8.3"
  }
 },
 "nbformat": 4,
 "nbformat_minor": 4
}
